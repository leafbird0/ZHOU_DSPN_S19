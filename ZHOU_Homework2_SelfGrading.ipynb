{
 "cells": [
  {
   "cell_type": "markdown",
   "metadata": {},
   "source": [
    "Question 1: Correct, my answer gave more details regarding the probability distributions for different types of data."
   ]
  },
  {
   "cell_type": "markdown",
   "metadata": {},
   "source": [
    "Question 2: Correct, but my answer can be better by saying that the normal distribution as best described by the parameter mean = 100 and sd=15."
   ]
  },
  {
   "cell_type": "markdown",
   "metadata": {},
   "source": [
    "Question 3: Correct, but not perfect.\n",
    "1.\tMy code plotted both histogram and density curve for each experiment, and histogram is enough for comparisons.\n",
    "2.\tIn addition, it seems that setting the value of binwidth is more efficient for my code.\n",
    "3.\t Moreover, I noticed that setting the width and height ahead of time make the figure look better.\n",
    "4.\tFinally using the grid.arrange() function to plot them in a single column is more useful for comparison."
   ]
  },
  {
   "cell_type": "markdown",
   "metadata": {},
   "source": [
    "Question 4: Correct, but not perfect. \n",
    "1.\tI see that my codes are not concise enough. For example, I used runif function to generate dice rolling for each experiment; it would be better to use the for function to generate all dice rolling for all experiment ahead of time. \t\n",
    "2.\tIn addition, histogram is enough for the dice rolling experiment. \n",
    "3.\tAt the end of the experiment, using grid.arrange() function will make the comparison more pleasurable."
   ]
  },
  {
   "cell_type": "markdown",
   "metadata": {},
   "source": [
    "I should say sorry because I didn't submit a jupyter notebook version last time. This time I forked the whole repository and edited the homework file on my jupyter notebook. Therefore, I made a new version for my homework2. I am very sorry for the inconvenience."
   ]
  }
 ],
 "metadata": {
  "kernelspec": {
   "display_name": "R",
   "language": "R",
   "name": "ir"
  },
  "language_info": {
   "codemirror_mode": "r",
   "file_extension": ".r",
   "mimetype": "text/x-r-source",
   "name": "R",
   "pygments_lexer": "r",
   "version": "3.5.1"
  }
 },
 "nbformat": 4,
 "nbformat_minor": 2
}
