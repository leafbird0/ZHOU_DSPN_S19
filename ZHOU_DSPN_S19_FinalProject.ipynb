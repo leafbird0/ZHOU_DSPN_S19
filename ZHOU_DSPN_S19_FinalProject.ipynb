{
 "cells": [
  {
   "cell_type": "markdown",
   "metadata": {},
   "source": [
    "## Neural correlates for the role of consistency and regularity during word recognition"
   ]
  },
  {
   "cell_type": "markdown",
   "metadata": {},
   "source": [
    "# 1. Background"
   ]
  },
  {
   "cell_type": "markdown",
   "metadata": {},
   "source": [
    "<p style='text-align: justify;text-indent:2em'>  \n",
    "Theoretical models of reading, using different approaches, conceptualize the orthograhpy-to-phonology mappings of written languages in different ways. The connectionist approach (e.g., the parallel distributed processing model) characterizes the orthography-to-phonology mappings of a written language by the consistency, which describes whether the word body (e.g., -ADE) of a word (e.g., WADE) is pronounced consistently in the word’s all orthographic neighbors (e.g., WADE, MADE, JADE, LADE) containing the same letter pattern. For instance, the English word WADE is a consistent word because it rhymes with all its orthographical neighbors, whereas the word WAVE is an inconsistent word because its word body -AVE is pronounced differently from at least one orthographical neighbor (e.g., HAVE). By contrast, the non-connectioninst approach (e.g., the dual-route cascaded model) characterizes the orthography-to-phonology mappings of a alphabetic written language by the regularity, which whether the pronunciation of a letter or letter string in the word conforms to the Grapheme-Phoneme Correspondence (GPC) rules. For example, the English word MUST is a regular word because the letter U is pronounced as /ʌ/ according to the GPC rules, whereas the word DEAF is an exception word because the letter string EA is pronounced as /ɛ/ rather than /i/ as the GPC rules predict. One empiral question here is which factor, consistency or regularity can better characterize the difficulty associated with word naming. \n",
    "</p> \n",
    "<p style='text-align: justify;text-indent:2em'> \n",
    "    In the literature, consistency is shown to be superior than regularity in accounting for the difficulty associated with word naming in skilled reader. However, most of this literature examined this question with special focuses on alphabetic language (e.g., English) reading, the designing principles of which are different from other writing systems (e.g., logographic and syllabary) in the world. Therefore, the question of whether consistency or regularity can better characterize the difficulty associated with word naming in other writing systems (e.g., the logographic writing system) will contribute to the development of reading theories toward a universal reading model.\n",
    "</p> \n",
    "<p style='text-align: justify;text-indent:2em'>        \n",
    "    Written Chinese is a good candidate for the examination: As a logographic script, where the sub-lexical units (i.e., radicals) of Chinese characters represent a syllable, morpheme or both, instead of phonemes, written Chinese presents a sharp contrast to alphabetic writing systems. In particular, most Chinese characters  are complex characters(e.g., 植, ‘zhi2’, plant), which consist of a phonetic radical (直, ‘zhi2’, vertical)and semantic radical(木, ‘mu2’, wood related). The former provides cues to the pronunciation of the host character, whereas the latter implies meaning of the host character. It is notable that some radicals (e.g., 直 and 木) can stand alone as legal characters themselves, and thus have their own pronunciations and meanings.\n",
    "</p> \n",
    "<p style='text-align: justify;text-indent:2em'>   \n",
    "    The application of consistency and regularity produces a different picture. Specifically, the consistency describes to what extent the pronunciation of a character (e.g., 距) is congruent with pronunciations of all its orthographical neighbors (e.g., 距, 拒, 柜, 矩, 炬, 钜) sharing the same phonetic radical (e.g., 巨). A high-consistent character has a large number of homophonic orthographic neighbors, whereas a low-consistent character is pronounced differently from most of its orthographic neighbors. By contrast, through a possible analogy with English, the regularity of a character describes the phonological relationship between the host character and its phonetic radicals. For instance, the character 植 (‘zhi2’, plant) is a regular character because it is pronounced identically with its phonetic radical 直 (‘zhi2’, vertical), whereas the character 钮 (‘niu3’, button) is an irregular character because it is pronounced different from its phonetic radical 丑 (‘chou3’, ugly) . \n",
    "</p> "
   ]
  },
  {
   "cell_type": "markdown",
   "metadata": {},
   "source": [
    "# 2. Variables"
   ]
  },
  {
   "cell_type": "markdown",
   "metadata": {},
   "source": [
    "\n",
    "<p style='text-align: justify;text-indent:2em'> \n",
    "    My datasets have two independent variables: consistency (High-consistent vs. Low-consistent) and regularity (Regular vs. Irregular), and several dependent variables (ERP responses, reaction times, posttest accuracy).\n",
    "</p> \n",
    "\n",
    "<p style='text-align: justify;text-indent:2em'> \n",
    "In the ERP experiment, participants saw two sequentially presented words and were instructed to judge whether the two words were homophones or not with a button press. \n",
    "    </p> \n",
    "<p style='text-align: justify;text-indent:2em'> \n",
    "    In addition to the ERP waveforms, which were time locked to the second/target word, reaction times (RTs) and on-line accuracy were recorded. After the ERP experiment, participants were asked to write down the pronunciations of all second/target words and this off-line accuracy was also recorded.\n",
    "    </p> "
   ]
  },
  {
   "cell_type": "markdown",
   "metadata": {},
   "source": [
    "# 3. Hypotheses"
   ]
  },
  {
   "cell_type": "markdown",
   "metadata": {},
   "source": [
    "<p style='text-align: justify;text-indent:2em'> \n",
    "    We are interested in whether consistency or regularity can better characterize the difficulty of Chinese character reading. One hypothesis is that consistency affects character reading; alternatively, regularity affects character reading; or perhaps consistency interacts with regularity in affecting character reading. \n",
    "        </p> "
   ]
  },
  {
   "cell_type": "markdown",
   "metadata": {},
   "source": [
    "# 4. Data organization"
   ]
  },
  {
   "cell_type": "markdown",
   "metadata": {},
   "source": [
    "## 4.1 Data cleansing & tidy\n",
    "Data cleaning invloves checking the number of averaged trials for each condition: Some participants cannot control their eye blinks and body movement, resulting in a loss of large number of trials. We will abandon data from these participants.\n",
    "\n",
    "\n",
    "## 4.2 ERP data analyses\n",
    "\n",
    "For the ERP data, the mean amplitude of ERP components (N170,P200 and N400) over a time window was caculated for a cluster of electrodes for each participant.\n",
    "\n",
    "ERP data format:\n",
    "\n",
    "Participante   Regularity   Consistency   Clustered electrode    N400\n",
    "\n",
    "(1) For ERP data, linear mixed effect models will be applied to probe whether the main effect of consistency, the main effect of regularity and the two-way interaction is significant in modulating the amplitudes of ERP components.\n",
    "\n",
    "\n",
    "## 4.3 Behavioral data analyses\n",
    "\n",
    "(2) For the RTs data, linear mixed effect models will be applied to probe whether the main effect of consistency, the main effect of regularity and the two-way interaction is significant in affectig the RTs of partipants.\n",
    "\n",
    "(3) For the accuracy data, mixed logit models will be applied to probe whether the accuracy is affected by consistency and regularity.\n",
    "\n",
    "(4) The bootstrap approach approach will be used to estimate the variability associated with the estimated coefficients."
   ]
  }
 ],
 "metadata": {
  "kernelspec": {
   "display_name": "R",
   "language": "R",
   "name": "ir"
  },
  "language_info": {
   "codemirror_mode": "r",
   "file_extension": ".r",
   "mimetype": "text/x-r-source",
   "name": "R",
   "pygments_lexer": "r",
   "version": "3.5.1"
  }
 },
 "nbformat": 4,
 "nbformat_minor": 2
}
