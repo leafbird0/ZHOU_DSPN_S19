{
 "cells": [
  {
   "cell_type": "markdown",
   "metadata": {},
   "source": [
    " <font color='DodgerBlue' size =5>  Consistency outperforms regularity in characterizing the orthography-to-phonology mappings of Chinese characters <font>"
   ]
  },
  {
   "cell_type": "markdown",
   "metadata": {},
   "source": [
    "# <font color='DodgerBlue'> 1. Background <font>"
   ]
  },
  {
   "cell_type": "markdown",
   "metadata": {},
   "source": [
    "<p style=\"color:blue;font-size:18px;\"> A univeral model of reading that can accommodate all languages?<p>\n",
    "<p style='text-align: justify;text-indent:2em'>  \n",
    "    The issue of whether and how to develop a universal model of reading that can accommodate all languages has sparked a hug discussion in reading research (e.g., Frost, 2012). One big obstacle is that written languages differ dramatically in mapping principles from orthography to various spoken languages as well as in their basic visual features. For instance, written English, an alphabetic written language with alphabetic letters arranged linearly, has its letter or letter strings in a word map onto single phonemes; by contrast, written Chinese, a logographic written language with strokes packed in a square-shaped character unit, has its components (i.e., radicals) of each character unit map onto a single syllable. To conquer this obstacle, a universal reading model should be capable of capturing all these variations of written languages in a single system.\n",
    "</p> \n",
    "<img src=\"Language.png\">\n",
    "<p style=\"color:blue;font-size:18px;\"> Two modeling approaches in reading<p>   \n",
    "<p style='text-align: justify;text-indent:2em'>  \n",
    "    Generally speaking, there are two theoretical modeling approaches in the reading literature. The non-connectionist approach, e.g., Dual-Route Cascaded (DRC) model (Coltheart, Rastle, Perry, Langdon, & Ziegler, 2001), assumes local representations for spelling-sound knowledge, e.g., Grapheme-Phoneme Correspondence (GPC) rules of written English. By contrast, the connectionist approach, e.g., Parallel Distributed Processing (PDP) model (Plaut, McClelland, Seidenberg, & Patterson, 1996), assumes that spelling-sound knowledge is represented as weights on connections between units that represent spelling and sound features, instead of local representations; because all individual words have no local representations and share the same set of feature units and connections, the weights on connections are determined by the knowledge of the pronunciations of other similar spelled words.\n",
    "<p><img src=\"models.png\">\n",
    "\n",
    "<p style=\"color:blue;font-size:18px;\"> Two approaches in characterizing orthography-to-phonology mappings<p>       \n",
    "<p style='text-align: justify;text-indent:2em'>  \n",
    "Accordingly, the orthography-to-phonology mappings of written English are conceptualized differently in these two modeling approaches. In terms of the non-connectionist approach, the regularity of an English word, which is defined by whether or not the pronunciation of the word’s letter or letter string conforms to the GPC rules, determines the difficulty of naming this word. For instance, in the DRC model, the GPC rule that letter string -EA- corresponds to /i:/ has a local representation; the word LEAF is a regular word because the GPC rule can correctly specify its pronunciation /li:f/, whereas the word DEAF is an exception word because the GPC rule cannot correctly derive its pronunciation /def/. In this framework, when word frequency are controlled, regular words are predicted to be named faster than exception words.\n",
    "</p>\n",
    "<p style='text-align: justify;text-indent:2em'>  \n",
    "By contrast, in terms of the connectionist approach, the consistency of an English word, which is defined by whether or not the word boy (e.g., -ADE) of the word (e.g., WADE) is pronounced consistently in the word’s all orthographic neighbors (e.g., WADE, MADE, JADE, LADE) containing the same letter pattern, determines the difficulty of naming this word. For instance, the English word WADE is a consistent word because it rhymes with all its orthographical neighbors, whereas the word WAVE is an inconsistent word because its word body -AVE is pronounced differently from at least one orthographical neighbor (e.g., HAVE). In this framework, when word frequency are controlled, consistent words are predicted to be named faster than inconsistent words. \n",
    "<p>\n",
    "<img src=\"regcon.png\">\n",
    "<p style=\"color:blue;font-size:18px;\"> Which factor, consistency or regularity, can better characterize the difficulty associated with word naming?<p>\n",
    "\n",
    "<p style='text-align: justify;text-indent:2em'> \n",
    "    Given that the orthography-to-phonology mappings can be characterized by both consistency and regularity, one question arises: Which factor, consistency or regularity, can better characterize the difficulty associated with word naming?\n",
    "<p>    \n",
    "<p style='text-align: justify;text-indent:2em'>     \n",
    "    In the literature, consistency has been shown to be superior than regularity in accounting for the difficulty associated with word naming in skilled readers (e.g., Jared, 2002). However, most of this literature examined this question with special focuses on alphabetic language (e.g., English) reading, the designing principles of which are essentially different from other writing systems (e.g., logographic and syllabary) in the world. Therefore, examining this question in other writing systems will contribute to the development of reading theories toward a universal reading model.\n",
    "</p> \n",
    "<p style=\"color:blue;font-size:18px;\"> Examining this question in a logographic written language<p>\n",
    "<p style='text-align: justify;text-indent:2em'>        \n",
    "    Written Chinese is a good candidate for the examination: As a logographic script, written Chinese presents a sharp contrast to alphabetic writing systems, such that the component (i.e., radicals) of Chinese characters can represent a syllable, morpheme or both, instead of phonemes. In particular, most Chinese characters are complex characters (e.g., 植, ‘zhi2’, plant), which consist of a phonetic radical (直, ‘zhi2’, vertical)and semantic radical(木, ‘mu2’, wood related). The former provides cues to the pronunciation of the host character, whereas the latter implies meaning of the host character. It is notable that some radicals (e.g., 直 and 木) can stand alone as legal characters themselves, and thus have their own pronunciations and meanings.\n",
    "</p> \n",
    "<p style='text-align: justify;text-indent:2em'>   \n",
    "The application of consistency and regularity produces a different picture in written Chinese. Specifically, the consistency describes to what extent the pronunciation of a character (e.g., 距) is congruent with pronunciations of all its orthographical neighbors (e.g., 距, 拒, 柜, 矩, 炬, 钜) sharing the same phonetic radical (e.g., 巨). A high-consistent character has a large number of homophonic orthographic neighbors, whereas a low-consistent character has a large number of non-homophonic orthographic neighbors. Through a possible analogy with English, the regularity of a character describes the phonological relationship between the host character and its phonetic radicals. For instance, the character 植 (‘zhi2’, plant) is a regular character because it is pronounced identically with its phonetic radical 直 (‘zhi2’, vertical), whereas the character 钮 (‘niu3’, button) is an irregular character because it is pronounced different from its phonetic radical 丑 (‘chou3’, ugly).\n",
    "</p> \n",
    "<img src=\"Regcon2.png\">"
   ]
  },
  {
   "cell_type": "markdown",
   "metadata": {},
   "source": [
    "# <font color='DodgerBlue'> 2. The current study <font>"
   ]
  },
  {
   "cell_type": "markdown",
   "metadata": {},
   "source": [
    "## <font color='DodgerBlue'> 2.1 Aim and materials<font>\n",
    "    \n",
    "<p style='text-align: justify;text-indent:2em'> \n",
    "    The current study aims to provide a cross-cultural perspective on the issue of whether consistency or regularity can better characterize the difficulty associated with word naming, by examining this question in Chinese reading. Specifically, the consistency and regularity of Chinese characters are orthogonally manipulated in 184 target characters (46 in each condition). In addition, each target character is paired with a homophonic and a control probe character. The homophonic and control probe characters are matched in terms of word frequency, visual complexity and character structure.\n",
    "\n",
    "</p> \n",
    "\n",
    "<img src=\"Regcon3.png\">"
   ]
  },
  {
   "cell_type": "markdown",
   "metadata": {},
   "source": [
    "##  <font color='DodgerBlue'> 2.2 Procedure <font>\n",
    "<p style='text-align: justify;text-indent:2em'>     \n",
    "    Each trial started with a fixation cross displayed for 300 ms, followed by the target character for 800 ms. After a 800 ms blank, the probe character appeared and remained on the screen until manual response. The inter-trial interval was 1800–2200 ms. Both target and probe characters were displayed in font Song and in black against a gray background at the center of the screen. Participants were seated 60 cm from the screen (visual angle: 1.9). Participants were instructed to judge whether the target and probe character were homophonic or not by pressing a button. The ERP data was time locked to target characters. The online accuracy and Reaction Times (RTs) were recorded by Eprime.\n",
    "<p>\n",
    "<p style='text-align: justify;text-indent:2em'>\n",
    "After the ERP experiment, participants were asked to write down the pronunciations of target characters in Pinyin during the post-test questionnaire.    \n",
    " <p>\n",
    "    \n",
    "<img src=\"Paradigm.png\">"
   ]
  },
  {
   "cell_type": "markdown",
   "metadata": {},
   "source": [
    "##  <font color='DodgerBlue'> 2.3 Hypotheses <font>"
   ]
  },
  {
   "cell_type": "markdown",
   "metadata": {},
   "source": [
    "<p style='text-align: justify;text-indent:2em'> \n",
    "    We are interested in whether consistency or regularity can better characterize the difficulty of Chinese character reading. One hypothesis is that consistency affects character reading; alternatively, regularity affects character reading; or perhaps consistency interacts with regularity in affecting character reading. \n",
    "</p> \n",
    "<p style='text-align: justify;text-indent:2em'> \n",
    " For the ERP data, the coefficient of regularity is expected to be nonzero, if regularity is the dominate factor for character naming. Alternatively, the coefficient of consistency is expected to be nonzero, if consistency is the dominate factor. Or perhaps the two factors interact with each other, then the coefficient for the interaction term is expected to be nonzero. \n",
    "<p> \n",
    "$Y_{Amplitude}=\\beta_0 + \\beta_1X_{Regularity} + \\beta_2X_{Consistency} + \\beta_3X_{Regularity}X_{Consistency} + \\epsilon$\n",
    "<p style='text-align: justify;text-indent:2em'> \n",
    "For the behavioral data, the hypotheses and predictions are quite similar. But for the accuracy data, the dependent variable will be the logit; for the reaction time, the dependent variable will be the RTs.\n",
    "<p>\n",
    "\n",
    "Accuracy: $ log[\\frac{p(correct)}{1-p(correct)}]$\n",
    "\n",
    "RTs: $Y_{RTs}$"
   ]
  },
  {
   "cell_type": "markdown",
   "metadata": {},
   "source": [
    "#  <font color='DodgerBlue'>3. Data processing <font>\n",
    "<p style='text-align: justify;text-indent:2em;font-size:130%', size = 20> \n",
    "    The raw EEG data was processed in matlab, including filtering, segmentation, artifact rejection, baseline correction and reference. Also, EEG data is cooperated with behavioral post-test results such that each participant's EEG data discards wrong items in his or her posttest. We got the averaged EEG data for each participant across the four conditions.\n",
    "     <p>\n",
    "<img src=\"Dataprocess.png\">\n",
    "         \n",
    " ## <font color='DodgerBlue'>3.1 Data cleansing<font>\n",
    "<p style='text-align: justify;text-indent:2em;font-size:130%', size = 20> \n",
    "36 undergraduate students from university of Pittsburgh participated in the experiment. For each participant, the trial number of each condition was checked and 5 participants were rejected due to insufficient trial number (maximum trial number: 46, minimum number:17 > 1/3 total trial number).\n",
    "<p>\n",
    "    <p style='text-align: justify;text-indent:2em;font-size:130%', size = 20> \n",
    "For behavioral data, the mean RT and standard deviation of the RTs across the whole samples are caculated and any RTs deviate from the mean by 2 times standard deviation are discarded.\n",
    "<p>    "
   ]
  },
  {
   "cell_type": "code",
   "execution_count": 16,
   "metadata": {},
   "outputs": [
    {
     "data": {
      "text/html": [
       "<table>\n",
       "<thead><tr><th scope=col>ID</th><th scope=col>ReguHigh</th><th scope=col>ReguLow</th><th scope=col>IrreHigh</th><th scope=col>IrreLow</th></tr></thead>\n",
       "<tbody>\n",
       "\t<tr><td>S007</td><td>25  </td><td>20  </td><td>23  </td><td>21  </td></tr>\n",
       "\t<tr><td>S008</td><td>36  </td><td>35  </td><td>35  </td><td>29  </td></tr>\n",
       "\t<tr><td>S009</td><td>30  </td><td>32  </td><td>26  </td><td>24  </td></tr>\n",
       "\t<tr><td>S010</td><td>39  </td><td>30  </td><td>29  </td><td>30  </td></tr>\n",
       "\t<tr><td>S011</td><td>29  </td><td>24  </td><td>27  </td><td>17  </td></tr>\n",
       "\t<tr><td>S012</td><td>33  </td><td>29  </td><td>36  </td><td>30  </td></tr>\n",
       "</tbody>\n",
       "</table>\n"
      ],
      "text/latex": [
       "\\begin{tabular}{r|lllll}\n",
       " ID & ReguHigh & ReguLow & IrreHigh & IrreLow\\\\\n",
       "\\hline\n",
       "\t S007 & 25   & 20   & 23   & 21  \\\\\n",
       "\t S008 & 36   & 35   & 35   & 29  \\\\\n",
       "\t S009 & 30   & 32   & 26   & 24  \\\\\n",
       "\t S010 & 39   & 30   & 29   & 30  \\\\\n",
       "\t S011 & 29   & 24   & 27   & 17  \\\\\n",
       "\t S012 & 33   & 29   & 36   & 30  \\\\\n",
       "\\end{tabular}\n"
      ],
      "text/markdown": [
       "\n",
       "| ID | ReguHigh | ReguLow | IrreHigh | IrreLow |\n",
       "|---|---|---|---|---|\n",
       "| S007 | 25   | 20   | 23   | 21   |\n",
       "| S008 | 36   | 35   | 35   | 29   |\n",
       "| S009 | 30   | 32   | 26   | 24   |\n",
       "| S010 | 39   | 30   | 29   | 30   |\n",
       "| S011 | 29   | 24   | 27   | 17   |\n",
       "| S012 | 33   | 29   | 36   | 30   |\n",
       "\n"
      ],
      "text/plain": [
       "  ID   ReguHigh ReguLow IrreHigh IrreLow\n",
       "1 S007 25       20      23       21     \n",
       "2 S008 36       35      35       29     \n",
       "3 S009 30       32      26       24     \n",
       "4 S010 39       30      29       30     \n",
       "5 S011 29       24      27       17     \n",
       "6 S012 33       29      36       30     "
      ]
     },
     "metadata": {},
     "output_type": "display_data"
    },
    {
     "data": {
      "text/html": [
       "<table>\n",
       "<thead><tr><th scope=col>ID</th><th scope=col>ReguHigh</th><th scope=col>ReguLow</th><th scope=col>IrreHigh</th><th scope=col>IrreLow</th></tr></thead>\n",
       "<tbody>\n",
       "\t<tr><td>S018</td><td>20  </td><td>15  </td><td>15  </td><td>14  </td></tr>\n",
       "\t<tr><td>S031</td><td>20  </td><td>14  </td><td>18  </td><td>24  </td></tr>\n",
       "\t<tr><td>S034</td><td>19  </td><td>16  </td><td>14  </td><td>16  </td></tr>\n",
       "\t<tr><td>S035</td><td>24  </td><td>19  </td><td>26  </td><td>16  </td></tr>\n",
       "\t<tr><td>S037</td><td>10  </td><td> 7  </td><td> 5  </td><td> 7  </td></tr>\n",
       "</tbody>\n",
       "</table>\n"
      ],
      "text/latex": [
       "\\begin{tabular}{r|lllll}\n",
       " ID & ReguHigh & ReguLow & IrreHigh & IrreLow\\\\\n",
       "\\hline\n",
       "\t S018 & 20   & 15   & 15   & 14  \\\\\n",
       "\t S031 & 20   & 14   & 18   & 24  \\\\\n",
       "\t S034 & 19   & 16   & 14   & 16  \\\\\n",
       "\t S035 & 24   & 19   & 26   & 16  \\\\\n",
       "\t S037 & 10   &  7   &  5   &  7  \\\\\n",
       "\\end{tabular}\n"
      ],
      "text/markdown": [
       "\n",
       "| ID | ReguHigh | ReguLow | IrreHigh | IrreLow |\n",
       "|---|---|---|---|---|\n",
       "| S018 | 20   | 15   | 15   | 14   |\n",
       "| S031 | 20   | 14   | 18   | 24   |\n",
       "| S034 | 19   | 16   | 14   | 16   |\n",
       "| S035 | 24   | 19   | 26   | 16   |\n",
       "| S037 | 10   |  7   |  5   |  7   |\n",
       "\n"
      ],
      "text/plain": [
       "  ID   ReguHigh ReguLow IrreHigh IrreLow\n",
       "1 S018 20       15      15       14     \n",
       "2 S031 20       14      18       24     \n",
       "3 S034 19       16      14       16     \n",
       "4 S035 24       19      26       16     \n",
       "5 S037 10        7       5        7     "
      ]
     },
     "metadata": {},
     "output_type": "display_data"
    }
   ],
   "source": [
    "library(readxl)\n",
    "setwd(\"~/Dropbox/Research/Regularity and Consistency/Experiment 2/_Statistics\")\n",
    "myData.TriNum <-read_excel(\"ERP.xls\",\"TrialNumber\")\n",
    "head(myData.TriNum)\n",
    "\n",
    "#Set criteria for valid data\n",
    "subset(myData.TriNum, myData.TriNum[2]<17 | myData.TriNum[3]<17 | myData.TriNum[4]<17 | myData.TriNum[5]<17)"
   ]
  },
  {
   "cell_type": "markdown",
   "metadata": {},
   "source": [
    "    \n",
    "## <font color='DodgerBlue'> 3.2 Data structure<font>\n",
    "    \n",
    " ### <font color='DodgerBlue'> 3.2.1 ERP data<font>\n",
    " \n",
    "<p style='text-align: justify;text-indent:2em;font-size:130%', size = 20> \n",
    "For statistical analysis, I caculated the mean amplitude across a time window for each ERP component and for a set of electrode clusters: P200 (170-260 ms) and N400 (300-450 ms). The set of electrode clusters are F3/z/4, C3/z/4, P3/z/4, and O1/z/2. The output ERP data from matlab is a wide type data as follows.\n",
    "<p>\n"
   ]
  },
  {
   "cell_type": "code",
   "execution_count": 32,
   "metadata": {},
   "outputs": [
    {
     "data": {
      "text/html": [
       "<table>\n",
       "<thead><tr><th scope=col>Sub</th><th scope=col>Regu_High_C3</th><th scope=col>Regu_High_Cz</th><th scope=col>Regu_High_C4</th><th scope=col>Regu_High_F3</th><th scope=col>Regu_High_Fz</th><th scope=col>Regu_High_F4</th><th scope=col>Regu_High_P3</th><th scope=col>Regu_High_Pz</th><th scope=col>Regu_High_P4</th><th scope=col>⋯</th><th scope=col>Irre_Low_C4</th><th scope=col>Irre_Low_F3</th><th scope=col>Irre_Low_Fz</th><th scope=col>Irre_Low_F4</th><th scope=col>Irre_Low_P3</th><th scope=col>Irre_Low_Pz</th><th scope=col>Irre_Low_P4</th><th scope=col>Irre_Low_O1</th><th scope=col>Irre_Low_Oz</th><th scope=col>Irre_Low_O2</th></tr></thead>\n",
       "<tbody>\n",
       "\t<tr><td>1          </td><td>3.1154730  </td><td>3.542954   </td><td> 1.7109220 </td><td>2.933192   </td><td>2.950627   </td><td>1.4360280  </td><td> 0.9566466 </td><td> 0.9916223 </td><td>-0.26078400</td><td>⋯          </td><td> 0.7751335 </td><td>3.071463   </td><td>2.991340   </td><td>1.9532230  </td><td> 0.7727425 </td><td> 0.2116715 </td><td>-1.0309990 </td><td>-1.6065640 </td><td>-1.29962900</td><td>-3.401586  </td></tr>\n",
       "\t<tr><td>2          </td><td>2.3654470  </td><td>3.942681   </td><td> 2.9555190 </td><td>2.150274   </td><td>4.454396   </td><td>3.7087430  </td><td>-1.7963220 </td><td>-1.8507230 </td><td>-1.85280500</td><td>⋯          </td><td> 3.3584530 </td><td>1.948794   </td><td>3.975947   </td><td>3.6044080  </td><td>-1.0219460 </td><td>-0.5059993 </td><td>-0.7452450 </td><td>-5.9917530 </td><td>-5.16456200</td><td>-5.559531  </td></tr>\n",
       "\t<tr><td>3          </td><td>1.4620030  </td><td>1.279866   </td><td> 3.3618690 </td><td>2.493293   </td><td>4.686327   </td><td>4.9780440  </td><td>-0.4638775 </td><td> 1.1703860 </td><td>-0.01698302</td><td>⋯          </td><td> 1.0621150 </td><td>1.198609   </td><td>3.446291   </td><td>3.9207360  </td><td>-1.6827140 </td><td>-0.7893468 </td><td>-1.8227950 </td><td>-3.4347940 </td><td>-1.91826000</td><td>-3.987740  </td></tr>\n",
       "\t<tr><td>4          </td><td>3.3567520  </td><td>2.028762   </td><td>-0.8008632 </td><td>4.649268   </td><td>5.824634   </td><td>3.7253110  </td><td>-0.5097146 </td><td>-2.9706630 </td><td>-7.44949900</td><td>⋯          </td><td> 0.2972801 </td><td>4.259030   </td><td>6.029480   </td><td>5.8213860  </td><td>-1.7912510 </td><td>-2.1435320 </td><td>-5.7052540 </td><td>-5.9450870 </td><td>-5.21040700</td><td>-7.864775  </td></tr>\n",
       "\t<tr><td>5          </td><td>1.3554030  </td><td>1.385345   </td><td>-0.6398811 </td><td>2.216060   </td><td>2.946624   </td><td>0.7450975  </td><td> 0.1787958 </td><td> 0.9502492 </td><td>-0.19459540</td><td>⋯          </td><td>-0.5657644 </td><td>3.374526   </td><td>3.108076   </td><td>0.8461189  </td><td> 1.2407720 </td><td> 2.2617320 </td><td>-0.5236652 </td><td>-0.5742282 </td><td>-0.06842323</td><td>-1.158689  </td></tr>\n",
       "\t<tr><td>6          </td><td>0.9713547  </td><td>1.763091   </td><td> 0.3783204 </td><td>2.127177   </td><td>1.665340   </td><td>1.4266500  </td><td>-0.7793745 </td><td> 0.4116469 </td><td>-2.64057600</td><td>⋯          </td><td> 0.9972841 </td><td>1.432201   </td><td>3.264176   </td><td>2.8037310  </td><td>-2.6790260 </td><td>-0.3516889 </td><td>-1.1238920 </td><td>-2.8306000 </td><td>-1.69998500</td><td>-1.902607  </td></tr>\n",
       "</tbody>\n",
       "</table>\n"
      ],
      "text/latex": [
       "\\begin{tabular}{r|lllllllllllllllllllllllllllllllllllllllllllllllll}\n",
       " Sub & Regu\\_High\\_C3 & Regu\\_High\\_Cz & Regu\\_High\\_C4 & Regu\\_High\\_F3 & Regu\\_High\\_Fz & Regu\\_High\\_F4 & Regu\\_High\\_P3 & Regu\\_High\\_Pz & Regu\\_High\\_P4 & ⋯ & Irre\\_Low\\_C4 & Irre\\_Low\\_F3 & Irre\\_Low\\_Fz & Irre\\_Low\\_F4 & Irre\\_Low\\_P3 & Irre\\_Low\\_Pz & Irre\\_Low\\_P4 & Irre\\_Low\\_O1 & Irre\\_Low\\_Oz & Irre\\_Low\\_O2\\\\\n",
       "\\hline\n",
       "\t 1           & 3.1154730   & 3.542954    &  1.7109220  & 2.933192    & 2.950627    & 1.4360280   &  0.9566466  &  0.9916223  & -0.26078400 & ⋯           &  0.7751335  & 3.071463    & 2.991340    & 1.9532230   &  0.7727425  &  0.2116715  & -1.0309990  & -1.6065640  & -1.29962900 & -3.401586  \\\\\n",
       "\t 2           & 2.3654470   & 3.942681    &  2.9555190  & 2.150274    & 4.454396    & 3.7087430   & -1.7963220  & -1.8507230  & -1.85280500 & ⋯           &  3.3584530  & 1.948794    & 3.975947    & 3.6044080   & -1.0219460  & -0.5059993  & -0.7452450  & -5.9917530  & -5.16456200 & -5.559531  \\\\\n",
       "\t 3           & 1.4620030   & 1.279866    &  3.3618690  & 2.493293    & 4.686327    & 4.9780440   & -0.4638775  &  1.1703860  & -0.01698302 & ⋯           &  1.0621150  & 1.198609    & 3.446291    & 3.9207360   & -1.6827140  & -0.7893468  & -1.8227950  & -3.4347940  & -1.91826000 & -3.987740  \\\\\n",
       "\t 4           & 3.3567520   & 2.028762    & -0.8008632  & 4.649268    & 5.824634    & 3.7253110   & -0.5097146  & -2.9706630  & -7.44949900 & ⋯           &  0.2972801  & 4.259030    & 6.029480    & 5.8213860   & -1.7912510  & -2.1435320  & -5.7052540  & -5.9450870  & -5.21040700 & -7.864775  \\\\\n",
       "\t 5           & 1.3554030   & 1.385345    & -0.6398811  & 2.216060    & 2.946624    & 0.7450975   &  0.1787958  &  0.9502492  & -0.19459540 & ⋯           & -0.5657644  & 3.374526    & 3.108076    & 0.8461189   &  1.2407720  &  2.2617320  & -0.5236652  & -0.5742282  & -0.06842323 & -1.158689  \\\\\n",
       "\t 6           & 0.9713547   & 1.763091    &  0.3783204  & 2.127177    & 1.665340    & 1.4266500   & -0.7793745  &  0.4116469  & -2.64057600 & ⋯           &  0.9972841  & 1.432201    & 3.264176    & 2.8037310   & -2.6790260  & -0.3516889  & -1.1238920  & -2.8306000  & -1.69998500 & -1.902607  \\\\\n",
       "\\end{tabular}\n"
      ],
      "text/markdown": [
       "\n",
       "| Sub | Regu_High_C3 | Regu_High_Cz | Regu_High_C4 | Regu_High_F3 | Regu_High_Fz | Regu_High_F4 | Regu_High_P3 | Regu_High_Pz | Regu_High_P4 | ⋯ | Irre_Low_C4 | Irre_Low_F3 | Irre_Low_Fz | Irre_Low_F4 | Irre_Low_P3 | Irre_Low_Pz | Irre_Low_P4 | Irre_Low_O1 | Irre_Low_Oz | Irre_Low_O2 |\n",
       "|---|---|---|---|---|---|---|---|---|---|---|---|---|---|---|---|---|---|---|---|---|\n",
       "| 1           | 3.1154730   | 3.542954    |  1.7109220  | 2.933192    | 2.950627    | 1.4360280   |  0.9566466  |  0.9916223  | -0.26078400 | ⋯           |  0.7751335  | 3.071463    | 2.991340    | 1.9532230   |  0.7727425  |  0.2116715  | -1.0309990  | -1.6065640  | -1.29962900 | -3.401586   |\n",
       "| 2           | 2.3654470   | 3.942681    |  2.9555190  | 2.150274    | 4.454396    | 3.7087430   | -1.7963220  | -1.8507230  | -1.85280500 | ⋯           |  3.3584530  | 1.948794    | 3.975947    | 3.6044080   | -1.0219460  | -0.5059993  | -0.7452450  | -5.9917530  | -5.16456200 | -5.559531   |\n",
       "| 3           | 1.4620030   | 1.279866    |  3.3618690  | 2.493293    | 4.686327    | 4.9780440   | -0.4638775  |  1.1703860  | -0.01698302 | ⋯           |  1.0621150  | 1.198609    | 3.446291    | 3.9207360   | -1.6827140  | -0.7893468  | -1.8227950  | -3.4347940  | -1.91826000 | -3.987740   |\n",
       "| 4           | 3.3567520   | 2.028762    | -0.8008632  | 4.649268    | 5.824634    | 3.7253110   | -0.5097146  | -2.9706630  | -7.44949900 | ⋯           |  0.2972801  | 4.259030    | 6.029480    | 5.8213860   | -1.7912510  | -2.1435320  | -5.7052540  | -5.9450870  | -5.21040700 | -7.864775   |\n",
       "| 5           | 1.3554030   | 1.385345    | -0.6398811  | 2.216060    | 2.946624    | 0.7450975   |  0.1787958  |  0.9502492  | -0.19459540 | ⋯           | -0.5657644  | 3.374526    | 3.108076    | 0.8461189   |  1.2407720  |  2.2617320  | -0.5236652  | -0.5742282  | -0.06842323 | -1.158689   |\n",
       "| 6           | 0.9713547   | 1.763091    |  0.3783204  | 2.127177    | 1.665340    | 1.4266500   | -0.7793745  |  0.4116469  | -2.64057600 | ⋯           |  0.9972841  | 1.432201    | 3.264176    | 2.8037310   | -2.6790260  | -0.3516889  | -1.1238920  | -2.8306000  | -1.69998500 | -1.902607   |\n",
       "\n"
      ],
      "text/plain": [
       "  Sub Regu_High_C3 Regu_High_Cz Regu_High_C4 Regu_High_F3 Regu_High_Fz\n",
       "1 1   3.1154730    3.542954      1.7109220   2.933192     2.950627    \n",
       "2 2   2.3654470    3.942681      2.9555190   2.150274     4.454396    \n",
       "3 3   1.4620030    1.279866      3.3618690   2.493293     4.686327    \n",
       "4 4   3.3567520    2.028762     -0.8008632   4.649268     5.824634    \n",
       "5 5   1.3554030    1.385345     -0.6398811   2.216060     2.946624    \n",
       "6 6   0.9713547    1.763091      0.3783204   2.127177     1.665340    \n",
       "  Regu_High_F4 Regu_High_P3 Regu_High_Pz Regu_High_P4 ⋯ Irre_Low_C4 Irre_Low_F3\n",
       "1 1.4360280     0.9566466    0.9916223   -0.26078400  ⋯  0.7751335  3.071463   \n",
       "2 3.7087430    -1.7963220   -1.8507230   -1.85280500  ⋯  3.3584530  1.948794   \n",
       "3 4.9780440    -0.4638775    1.1703860   -0.01698302  ⋯  1.0621150  1.198609   \n",
       "4 3.7253110    -0.5097146   -2.9706630   -7.44949900  ⋯  0.2972801  4.259030   \n",
       "5 0.7450975     0.1787958    0.9502492   -0.19459540  ⋯ -0.5657644  3.374526   \n",
       "6 1.4266500    -0.7793745    0.4116469   -2.64057600  ⋯  0.9972841  1.432201   \n",
       "  Irre_Low_Fz Irre_Low_F4 Irre_Low_P3 Irre_Low_Pz Irre_Low_P4 Irre_Low_O1\n",
       "1 2.991340    1.9532230    0.7727425   0.2116715  -1.0309990  -1.6065640 \n",
       "2 3.975947    3.6044080   -1.0219460  -0.5059993  -0.7452450  -5.9917530 \n",
       "3 3.446291    3.9207360   -1.6827140  -0.7893468  -1.8227950  -3.4347940 \n",
       "4 6.029480    5.8213860   -1.7912510  -2.1435320  -5.7052540  -5.9450870 \n",
       "5 3.108076    0.8461189    1.2407720   2.2617320  -0.5236652  -0.5742282 \n",
       "6 3.264176    2.8037310   -2.6790260  -0.3516889  -1.1238920  -2.8306000 \n",
       "  Irre_Low_Oz Irre_Low_O2\n",
       "1 -1.29962900 -3.401586  \n",
       "2 -5.16456200 -5.559531  \n",
       "3 -1.91826000 -3.987740  \n",
       "4 -5.21040700 -7.864775  \n",
       "5 -0.06842323 -1.158689  \n",
       "6 -1.69998500 -1.902607  "
      ]
     },
     "metadata": {},
     "output_type": "display_data"
    }
   ],
   "source": [
    "myData.P200 <-read_excel(\"ERP.xls\",\"P200_170-260ms\")\n",
    "myData.N400 <-read_excel(\"ERP.xls\",\"N400_300-450ms\")\n",
    "head(myData.P200)"
   ]
  },
  {
   "cell_type": "markdown",
   "metadata": {},
   "source": [
    "<p style='text-align: justify;text-indent:2em;font-size:130%', size = 20> \n",
    "For statistical analysis in R, wide data is reshaped into long data. The data includes attributes of consistency, regularity, laterality and region.\n",
    "<p>"
   ]
  },
  {
   "cell_type": "code",
   "execution_count": 33,
   "metadata": {},
   "outputs": [
    {
     "data": {
      "text/html": [
       "<table>\n",
       "<thead><tr><th scope=col>Sub</th><th scope=col>Condition</th><th scope=col>Amplitude</th><th scope=col>Regularity</th><th scope=col>Consistency</th><th scope=col>Electrodes</th><th scope=col>Laterality</th><th scope=col>Region</th></tr></thead>\n",
       "<tbody>\n",
       "\t<tr><td>1           </td><td>Regu_High_C3</td><td>3.1154730   </td><td>Regu        </td><td>High        </td><td>C3          </td><td>Left        </td><td>Central     </td></tr>\n",
       "\t<tr><td>2           </td><td>Regu_High_C3</td><td>2.3654470   </td><td>Regu        </td><td>High        </td><td>C3          </td><td>Left        </td><td>Central     </td></tr>\n",
       "\t<tr><td>3           </td><td>Regu_High_C3</td><td>1.4620030   </td><td>Regu        </td><td>High        </td><td>C3          </td><td>Left        </td><td>Central     </td></tr>\n",
       "\t<tr><td>4           </td><td>Regu_High_C3</td><td>3.3567520   </td><td>Regu        </td><td>High        </td><td>C3          </td><td>Left        </td><td>Central     </td></tr>\n",
       "\t<tr><td>5           </td><td>Regu_High_C3</td><td>1.3554030   </td><td>Regu        </td><td>High        </td><td>C3          </td><td>Left        </td><td>Central     </td></tr>\n",
       "\t<tr><td>6           </td><td>Regu_High_C3</td><td>0.9713547   </td><td>Regu        </td><td>High        </td><td>C3          </td><td>Left        </td><td>Central     </td></tr>\n",
       "</tbody>\n",
       "</table>\n"
      ],
      "text/latex": [
       "\\begin{tabular}{r|llllllll}\n",
       " Sub & Condition & Amplitude & Regularity & Consistency & Electrodes & Laterality & Region\\\\\n",
       "\\hline\n",
       "\t 1                & Regu\\_High\\_C3 & 3.1154730        & Regu             & High             & C3               & Left             & Central         \\\\\n",
       "\t 2                & Regu\\_High\\_C3 & 2.3654470        & Regu             & High             & C3               & Left             & Central         \\\\\n",
       "\t 3                & Regu\\_High\\_C3 & 1.4620030        & Regu             & High             & C3               & Left             & Central         \\\\\n",
       "\t 4                & Regu\\_High\\_C3 & 3.3567520        & Regu             & High             & C3               & Left             & Central         \\\\\n",
       "\t 5                & Regu\\_High\\_C3 & 1.3554030        & Regu             & High             & C3               & Left             & Central         \\\\\n",
       "\t 6                & Regu\\_High\\_C3 & 0.9713547        & Regu             & High             & C3               & Left             & Central         \\\\\n",
       "\\end{tabular}\n"
      ],
      "text/markdown": [
       "\n",
       "| Sub | Condition | Amplitude | Regularity | Consistency | Electrodes | Laterality | Region |\n",
       "|---|---|---|---|---|---|---|---|\n",
       "| 1            | Regu_High_C3 | 3.1154730    | Regu         | High         | C3           | Left         | Central      |\n",
       "| 2            | Regu_High_C3 | 2.3654470    | Regu         | High         | C3           | Left         | Central      |\n",
       "| 3            | Regu_High_C3 | 1.4620030    | Regu         | High         | C3           | Left         | Central      |\n",
       "| 4            | Regu_High_C3 | 3.3567520    | Regu         | High         | C3           | Left         | Central      |\n",
       "| 5            | Regu_High_C3 | 1.3554030    | Regu         | High         | C3           | Left         | Central      |\n",
       "| 6            | Regu_High_C3 | 0.9713547    | Regu         | High         | C3           | Left         | Central      |\n",
       "\n"
      ],
      "text/plain": [
       "  Sub Condition    Amplitude Regularity Consistency Electrodes Laterality\n",
       "1 1   Regu_High_C3 3.1154730 Regu       High        C3         Left      \n",
       "2 2   Regu_High_C3 2.3654470 Regu       High        C3         Left      \n",
       "3 3   Regu_High_C3 1.4620030 Regu       High        C3         Left      \n",
       "4 4   Regu_High_C3 3.3567520 Regu       High        C3         Left      \n",
       "5 5   Regu_High_C3 1.3554030 Regu       High        C3         Left      \n",
       "6 6   Regu_High_C3 0.9713547 Regu       High        C3         Left      \n",
       "  Region \n",
       "1 Central\n",
       "2 Central\n",
       "3 Central\n",
       "4 Central\n",
       "5 Central\n",
       "6 Central"
      ]
     },
     "metadata": {},
     "output_type": "display_data"
    },
    {
     "data": {
      "text/html": [
       "<table>\n",
       "<thead><tr><th scope=col>Sub</th><th scope=col>Condition</th><th scope=col>Amplitude</th><th scope=col>Regularity</th><th scope=col>Consistency</th><th scope=col>Electrodes</th><th scope=col>Laterality</th><th scope=col>Region</th></tr></thead>\n",
       "<tbody>\n",
       "\t<tr><td>1           </td><td>Regu_High_C3</td><td> 0.15048510 </td><td>Regu        </td><td>High        </td><td>C3          </td><td>Left        </td><td>Central     </td></tr>\n",
       "\t<tr><td>2           </td><td>Regu_High_C3</td><td> 0.04177685 </td><td>Regu        </td><td>High        </td><td>C3          </td><td>Left        </td><td>Central     </td></tr>\n",
       "\t<tr><td>3           </td><td>Regu_High_C3</td><td>-2.78150600 </td><td>Regu        </td><td>High        </td><td>C3          </td><td>Left        </td><td>Central     </td></tr>\n",
       "\t<tr><td>4           </td><td>Regu_High_C3</td><td> 0.67387690 </td><td>Regu        </td><td>High        </td><td>C3          </td><td>Left        </td><td>Central     </td></tr>\n",
       "\t<tr><td>5           </td><td>Regu_High_C3</td><td> 0.75137250 </td><td>Regu        </td><td>High        </td><td>C3          </td><td>Left        </td><td>Central     </td></tr>\n",
       "\t<tr><td>6           </td><td>Regu_High_C3</td><td> 0.44639140 </td><td>Regu        </td><td>High        </td><td>C3          </td><td>Left        </td><td>Central     </td></tr>\n",
       "</tbody>\n",
       "</table>\n"
      ],
      "text/latex": [
       "\\begin{tabular}{r|llllllll}\n",
       " Sub & Condition & Amplitude & Regularity & Consistency & Electrodes & Laterality & Region\\\\\n",
       "\\hline\n",
       "\t 1                & Regu\\_High\\_C3 &  0.15048510      & Regu             & High             & C3               & Left             & Central         \\\\\n",
       "\t 2                & Regu\\_High\\_C3 &  0.04177685      & Regu             & High             & C3               & Left             & Central         \\\\\n",
       "\t 3                & Regu\\_High\\_C3 & -2.78150600      & Regu             & High             & C3               & Left             & Central         \\\\\n",
       "\t 4                & Regu\\_High\\_C3 &  0.67387690      & Regu             & High             & C3               & Left             & Central         \\\\\n",
       "\t 5                & Regu\\_High\\_C3 &  0.75137250      & Regu             & High             & C3               & Left             & Central         \\\\\n",
       "\t 6                & Regu\\_High\\_C3 &  0.44639140      & Regu             & High             & C3               & Left             & Central         \\\\\n",
       "\\end{tabular}\n"
      ],
      "text/markdown": [
       "\n",
       "| Sub | Condition | Amplitude | Regularity | Consistency | Electrodes | Laterality | Region |\n",
       "|---|---|---|---|---|---|---|---|\n",
       "| 1            | Regu_High_C3 |  0.15048510  | Regu         | High         | C3           | Left         | Central      |\n",
       "| 2            | Regu_High_C3 |  0.04177685  | Regu         | High         | C3           | Left         | Central      |\n",
       "| 3            | Regu_High_C3 | -2.78150600  | Regu         | High         | C3           | Left         | Central      |\n",
       "| 4            | Regu_High_C3 |  0.67387690  | Regu         | High         | C3           | Left         | Central      |\n",
       "| 5            | Regu_High_C3 |  0.75137250  | Regu         | High         | C3           | Left         | Central      |\n",
       "| 6            | Regu_High_C3 |  0.44639140  | Regu         | High         | C3           | Left         | Central      |\n",
       "\n"
      ],
      "text/plain": [
       "  Sub Condition    Amplitude   Regularity Consistency Electrodes Laterality\n",
       "1 1   Regu_High_C3  0.15048510 Regu       High        C3         Left      \n",
       "2 2   Regu_High_C3  0.04177685 Regu       High        C3         Left      \n",
       "3 3   Regu_High_C3 -2.78150600 Regu       High        C3         Left      \n",
       "4 4   Regu_High_C3  0.67387690 Regu       High        C3         Left      \n",
       "5 5   Regu_High_C3  0.75137250 Regu       High        C3         Left      \n",
       "6 6   Regu_High_C3  0.44639140 Regu       High        C3         Left      \n",
       "  Region \n",
       "1 Central\n",
       "2 Central\n",
       "3 Central\n",
       "4 Central\n",
       "5 Central\n",
       "6 Central"
      ]
     },
     "metadata": {},
     "output_type": "display_data"
    }
   ],
   "source": [
    "library(tidyverse)\n",
    "\n",
    "myData.P200 <- gather(myData.P200, measure.vars=c('Regu_High_C3','Regu_High_Cz','Regu_High_C4',\n",
    "                                                  'Regu_High_F3','Regu_High_Fz','Regu_High_F4',\n",
    "                                                  'Regu_High_P3','Regu_High_Pz','Regu_High_P4',\n",
    "                                                  'Regu_High_O1','Regu_High_Oz','Regu_High_O2',\n",
    "                                                  'Regu_Low_C3','Regu_Low_Cz','Regu_Low_C4',\n",
    "                                                  'Regu_Low_F3','Regu_Low_Fz','Regu_Low_F4', \n",
    "                                                  'Regu_Low_P3','Regu_Low_Pz','Regu_Low_P4',\n",
    "                                                  'Regu_Low_O1','Regu_Low_Oz','Regu_Low_O2',\n",
    "                                                  'Irre_High_C3','Irre_High_Cz','Irre_High_C4',\n",
    "                                                  'Irre_High_F3','Irre_High_Fz','Irre_High_F4',\n",
    "                                                  'Irre_High_P3','Irre_High_Pz','Irre_High_P4',\n",
    "                                                  'Irre_High_O1','Irre_High_Oz','Irre_High_O2',\n",
    "                                                  'Irre_Low_C3','Irre_Low_Cz','Irre_Low_C4',\n",
    "                                                  'Irre_Low_F3','Irre_Low_Fz','Irre_Low_F4',\n",
    "                                                  'Irre_Low_P3','Irre_Low_Pz','Irre_Low_P4',\n",
    "                                                  'Irre_Low_O1','Irre_Low_Oz','Irre_Low_O2'),\n",
    "                      key = 'Condition', value = 'Amplitude')\n",
    "myData.N400 <- gather(myData.N400, measure.vars=c('Regu_High_C3','Regu_High_Cz','Regu_High_C4',\n",
    "                                                  'Regu_High_F3','Regu_High_Fz','Regu_High_F4',\n",
    "                                                  'Regu_High_P3','Regu_High_Pz','Regu_High_P4',\n",
    "                                                  'Regu_High_O1','Regu_High_Oz','Regu_High_O2',\n",
    "                                                  'Regu_Low_C3','Regu_Low_Cz','Regu_Low_C4',\n",
    "                                                  'Regu_Low_F3','Regu_Low_Fz','Regu_Low_F4', \n",
    "                                                  'Regu_Low_P3','Regu_Low_Pz','Regu_Low_P4',\n",
    "                                                  'Regu_Low_O1','Regu_Low_Oz','Regu_Low_O2',\n",
    "                                                  'Irre_High_C3','Irre_High_Cz','Irre_High_C4',\n",
    "                                                  'Irre_High_F3','Irre_High_Fz','Irre_High_F4',\n",
    "                                                  'Irre_High_P3','Irre_High_Pz','Irre_High_P4',\n",
    "                                                  'Irre_High_O1','Irre_High_Oz','Irre_High_O2',\n",
    "                                                  'Irre_Low_C3','Irre_Low_Cz','Irre_Low_C4',\n",
    "                                                  'Irre_Low_F3','Irre_Low_Fz','Irre_Low_F4',\n",
    "                                                  'Irre_Low_P3','Irre_Low_Pz','Irre_Low_P4',\n",
    "                                                  'Irre_Low_O1','Irre_Low_Oz','Irre_Low_O2'),\n",
    "                      key = 'Condition', value = 'Amplitude')\n",
    "\n",
    "\n",
    "# Create variables for each condition\n",
    "# Extract the regularity, consistency and electrodes from condition\n",
    "Det_Con <- function(x, num) {\n",
    "  a<- strsplit(x,\"_\")\n",
    "  return(a[[1]][num])\n",
    "}\n",
    "\n",
    "Det_Laterality <- function(x) {\n",
    "  switch(x,\"C3\" = \"Left\",\"Cz\" = \"Midline\", \"C4\"=\"Right\",\n",
    "         \"F3\" = \"Left\",\"Fz\" = \"Midline\", \"F4\"=\"Right\",\n",
    "         \"P3\" = \"Left\",\"Pz\" = \"Midline\", \"P4\"=\"Right\",\n",
    "         \"O1\" = \"Left\",\"Oz\" = \"Midline\", \"O2\"=\"Right\",\n",
    "         as.character(x))\n",
    "}\n",
    "\n",
    "Det_Region <- function(x) {\n",
    "  switch(x, \"C3\" = \"Central\", \"Cz\" = \"Central\", \"C4\"=\"Central\",\n",
    "         \"F3\" = \"Frontal\", \"Fz\" = \"Frontal\", \"F4\"=\"Frontal\",\n",
    "         \"P3\" = \"Parietal\", \"Pz\" = \"Parietal\", \"P4\"=\"Parietal\",\n",
    "         \"O1\" = \"Occipital\",\"Oz\" = \"Occipital\", \"O2\"=\"Occipital\"\n",
    "         ,as.character(x))\n",
    "}\n",
    "\n",
    "Regularity <- sapply(myData.P200$Condition, Det_Con, num=1)\n",
    "Consistency <- sapply(myData.P200$Condition, Det_Con, num=2)\n",
    "Electrodes <- sapply(myData.P200$Condition, Det_Con, num=3)\n",
    "\n",
    "Laterality <- sapply(Electrodes, Det_Laterality)\n",
    "Region <- sapply(Electrodes, Det_Region)\n",
    "\n",
    "myData.P200 <- cbind(myData.P200,Regularity,Consistency,Electrodes,Laterality,Region)\n",
    "\n",
    "Regularity <- sapply(myData.N400$Condition, Det_Con, num=1)\n",
    "Consistency <- sapply(myData.N400$Condition, Det_Con, num=2)\n",
    "Electrodes <- sapply(myData.N400$Condition, Det_Con, num=3)\n",
    "\n",
    "Laterality <- sapply(Electrodes, Det_Laterality)\n",
    "Region <- sapply(Electrodes, Det_Region)\n",
    "\n",
    "myData.N400 <- cbind(myData.N400,Regularity,Consistency,Electrodes,Laterality,Region)\n",
    "\n",
    "head(myData.P200)\n",
    "head(myData.N400)"
   ]
  },
  {
   "cell_type": "markdown",
   "metadata": {},
   "source": [
    "###  <font color='DodgerBlue'>3.2.2 Behavioral data<font>\n",
    " \n",
    "<p style='text-align: justify;text-indent:2em;font-size:130%', size = 20> \n",
    " Behavioral data include online accuracy, online reaction time (RT) and offline accuracy. In the dataset, the attribute \"Accuracy\" indicates the online accuracy, \"ItemAccuracy\" indicate offline accuracy, and \"RT\" indicates online RTs.\n",
    "<p>"
   ]
  },
  {
   "cell_type": "code",
   "execution_count": 52,
   "metadata": {},
   "outputs": [
    {
     "data": {
      "text/html": [
       "<table>\n",
       "<thead><tr><th scope=col>SubjectID</th><th scope=col>Subject</th><th scope=col>Target</th><th scope=col>Prime</th><th scope=col>Condition</th><th scope=col>Accuracy</th><th scope=col>RT</th><th scope=col>CellNumber</th><th scope=col>Target.Duration</th><th scope=col>TargetTrigger</th><th scope=col>Regularity</th><th scope=col>Consistency</th><th scope=col>ProbeCondition</th><th scope=col>ItemAccuracy</th><th scope=col>Mean+2sd</th><th scope=col>Mean-2SD</th><th scope=col>Range_acc</th></tr></thead>\n",
       "<tbody>\n",
       "\t<tr><td>1            </td><td>7            </td><td>滂           </td><td>孝           </td><td>ContRegLow   </td><td>1            </td><td>1491         </td><td>24           </td><td>800          </td><td> 82          </td><td>Regular      </td><td>Low          </td><td>Control      </td><td>1            </td><td>1931.016     </td><td>18.08222     </td><td>1            </td></tr>\n",
       "\t<tr><td>1            </td><td>7            </td><td>拴           </td><td>仄           </td><td>ContIrregHigh</td><td>1            </td><td>1492         </td><td>28           </td><td>800          </td><td>127          </td><td>Irregular    </td><td>High         </td><td>Control      </td><td>1            </td><td>1931.016     </td><td>18.08222     </td><td>1            </td></tr>\n",
       "\t<tr><td>1            </td><td>7            </td><td>赚           </td><td>视           </td><td>ContIrregLow </td><td>1            </td><td> 950         </td><td>32           </td><td>800          </td><td>175          </td><td>Irregular    </td><td>Low          </td><td>Control      </td><td>1            </td><td>1931.016     </td><td>18.08222     </td><td>1            </td></tr>\n",
       "\t<tr><td>1            </td><td>7            </td><td>樽           </td><td>频           </td><td>ContRegHigh  </td><td>1            </td><td>1199         </td><td>20           </td><td>800          </td><td> 34          </td><td>Regular      </td><td>High         </td><td>Control      </td><td>1            </td><td>1931.016     </td><td>18.08222     </td><td>1            </td></tr>\n",
       "\t<tr><td>1            </td><td>7            </td><td>霜           </td><td>州           </td><td>ContIrregLow </td><td>1            </td><td>1517         </td><td>32           </td><td>800          </td><td>177          </td><td>Irregular    </td><td>Low          </td><td>Control      </td><td>1            </td><td>1931.016     </td><td>18.08222     </td><td>1            </td></tr>\n",
       "\t<tr><td>1            </td><td>7            </td><td>勘           </td><td>忙           </td><td>ContIrregHigh</td><td>1            </td><td>1357         </td><td>28           </td><td>800          </td><td>128          </td><td>Irregular    </td><td>High         </td><td>Control      </td><td>1            </td><td>1931.016     </td><td>18.08222     </td><td>1            </td></tr>\n",
       "</tbody>\n",
       "</table>\n"
      ],
      "text/latex": [
       "\\begin{tabular}{r|lllllllllllllllll}\n",
       " SubjectID & Subject & Target & Prime & Condition & Accuracy & RT & CellNumber & Target.Duration & TargetTrigger & Regularity & Consistency & ProbeCondition & ItemAccuracy & Mean+2sd & Mean-2SD & Range\\_acc\\\\\n",
       "\\hline\n",
       "\t 1             & 7             & 滂            & 孝            & ContRegLow    & 1             & 1491          & 24            & 800           &  82           & Regular       & Low           & Control       & 1             & 1931.016      & 18.08222      & 1            \\\\\n",
       "\t 1             & 7             & 拴            & 仄            & ContIrregHigh & 1             & 1492          & 28            & 800           & 127           & Irregular     & High          & Control       & 1             & 1931.016      & 18.08222      & 1            \\\\\n",
       "\t 1             & 7             & 赚            & 视            & ContIrregLow  & 1             &  950          & 32            & 800           & 175           & Irregular     & Low           & Control       & 1             & 1931.016      & 18.08222      & 1            \\\\\n",
       "\t 1             & 7             & 樽            & 频            & ContRegHigh   & 1             & 1199          & 20            & 800           &  34           & Regular       & High          & Control       & 1             & 1931.016      & 18.08222      & 1            \\\\\n",
       "\t 1             & 7             & 霜            & 州            & ContIrregLow  & 1             & 1517          & 32            & 800           & 177           & Irregular     & Low           & Control       & 1             & 1931.016      & 18.08222      & 1            \\\\\n",
       "\t 1             & 7             & 勘            & 忙            & ContIrregHigh & 1             & 1357          & 28            & 800           & 128           & Irregular     & High          & Control       & 1             & 1931.016      & 18.08222      & 1            \\\\\n",
       "\\end{tabular}\n"
      ],
      "text/markdown": [
       "\n",
       "| SubjectID | Subject | Target | Prime | Condition | Accuracy | RT | CellNumber | Target.Duration | TargetTrigger | Regularity | Consistency | ProbeCondition | ItemAccuracy | Mean+2sd | Mean-2SD | Range_acc |\n",
       "|---|---|---|---|---|---|---|---|---|---|---|---|---|---|---|---|---|\n",
       "| 1             | 7             | 滂            | 孝            | ContRegLow    | 1             | 1491          | 24            | 800           |  82           | Regular       | Low           | Control       | 1             | 1931.016      | 18.08222      | 1             |\n",
       "| 1             | 7             | 拴            | 仄            | ContIrregHigh | 1             | 1492          | 28            | 800           | 127           | Irregular     | High          | Control       | 1             | 1931.016      | 18.08222      | 1             |\n",
       "| 1             | 7             | 赚            | 视            | ContIrregLow  | 1             |  950          | 32            | 800           | 175           | Irregular     | Low           | Control       | 1             | 1931.016      | 18.08222      | 1             |\n",
       "| 1             | 7             | 樽            | 频            | ContRegHigh   | 1             | 1199          | 20            | 800           |  34           | Regular       | High          | Control       | 1             | 1931.016      | 18.08222      | 1             |\n",
       "| 1             | 7             | 霜            | 州            | ContIrregLow  | 1             | 1517          | 32            | 800           | 177           | Irregular     | Low           | Control       | 1             | 1931.016      | 18.08222      | 1             |\n",
       "| 1             | 7             | 勘            | 忙            | ContIrregHigh | 1             | 1357          | 28            | 800           | 128           | Irregular     | High          | Control       | 1             | 1931.016      | 18.08222      | 1             |\n",
       "\n"
      ],
      "text/plain": [
       "  SubjectID Subject Target Prime Condition     Accuracy RT   CellNumber\n",
       "1 1         7       滂     孝    ContRegLow    1        1491 24        \n",
       "2 1         7       拴     仄    ContIrregHigh 1        1492 28        \n",
       "3 1         7       赚     视    ContIrregLow  1         950 32        \n",
       "4 1         7       樽     频    ContRegHigh   1        1199 20        \n",
       "5 1         7       霜     州    ContIrregLow  1        1517 32        \n",
       "6 1         7       勘     忙    ContIrregHigh 1        1357 28        \n",
       "  Target.Duration TargetTrigger Regularity Consistency ProbeCondition\n",
       "1 800              82           Regular    Low         Control       \n",
       "2 800             127           Irregular  High        Control       \n",
       "3 800             175           Irregular  Low         Control       \n",
       "4 800              34           Regular    High        Control       \n",
       "5 800             177           Irregular  Low         Control       \n",
       "6 800             128           Irregular  High        Control       \n",
       "  ItemAccuracy Mean+2sd Mean-2SD Range_acc\n",
       "1 1            1931.016 18.08222 1        \n",
       "2 1            1931.016 18.08222 1        \n",
       "3 1            1931.016 18.08222 1        \n",
       "4 1            1931.016 18.08222 1        \n",
       "5 1            1931.016 18.08222 1        \n",
       "6 1            1931.016 18.08222 1        "
      ]
     },
     "metadata": {},
     "output_type": "display_data"
    },
    {
     "data": {
      "image/png": "[encoded data removed]",
      "text/plain": [
       "plot without title"
      ]
     },
     "metadata": {},
     "output_type": "display_data"
    }
   ],
   "source": [
    "myData.behavior <-read_excel(\"All participants.xlsx\",\"All\")\n",
    "head(myData.behavior)\n",
    "\n",
    "options(repr.plot.width=8, repr.plot.height=5)\n",
    "# Plot online accuracy\n",
    "ggplot(data = myData.behavior,aes(x=Consistency, y = Accuracy, fill=Regularity)) +\n",
    "  facet_grid(rows=vars(myData.behavior$ProbeCondition)) +\n",
    "  stat_summary(fun.y = \"mean\", geom = \"bar\",position=position_dodge()) + \n",
    "  scale_y_continuous(labs( \"Mean accuracy\"),breaks=seq(0.5, 1.5, 0.1),limits = c(0,1))"
   ]
  },
  {
   "cell_type": "markdown",
   "metadata": {},
   "source": [
    "#  <font color='DodgerBlue'> 4. Data anlayses <font>\n",
    "    \n",
    "##  <font color='DodgerBlue'> 4.1 ERP data analyses: repeated measure ANOVA (Method 1)<font>"
   ]
  },
  {
   "cell_type": "markdown",
   "metadata": {},
   "source": [
    "###  <font color='DodgerBlue'> 4.1.1 Repeated measure ANOVA on P200 <font>  \n",
    " <p style='text-align: justify;text-indent:2em;font-size:130%', size = 20> \n",
    "  I conducted 2 by 2 by 2 by 3 repeated measure ANOVA on the mean amplitude of P200 with consistency (High vs. Low), regularity (Regular vs. Irregular), laterality (Left vs. Midline vs. Right) and region (Frontal vs. Central vs. Parietal) as three within-subject variables. \n",
    "<p>   \n",
    "    "
   ]
  },
  {
   "cell_type": "code",
   "execution_count": 39,
   "metadata": {},
   "outputs": [
    {
     "name": "stderr",
     "output_type": "stream",
     "text": [
      "Warning message in summary.Anova.mlm(object$Anova, multivariate = FALSE):\n",
      "“HF eps > 1 treated as 1”"
     ]
    },
    {
     "data": {
      "text/plain": [
       "\n",
       "Univariate Type III Repeated-Measures ANOVA Assuming Sphericity\n",
       "\n",
       "                                         Sum Sq num Df Error SS den Df  F value\n",
       "(Intercept)                              1935.6      1   462.39     30 125.5858\n",
       "Regularity                                  0.0      1    66.02     30   0.0189\n",
       "Consistency                                 6.3      1    77.12     30   2.4563\n",
       "Laterality                                191.7      2   499.00     60  11.5274\n",
       "Region                                   4334.3      2  1558.21     60  83.4483\n",
       "Regularity:Consistency                      0.0      1    41.32     30   0.0002\n",
       "Regularity:Laterality                       3.6      2    37.85     60   2.8758\n",
       "Consistency:Laterality                      6.7      2    40.41     60   4.9604\n",
       "Regularity:Region                           0.0      2   103.32     60   0.0143\n",
       "Consistency:Region                          5.6      2    63.98     60   2.6418\n",
       "Laterality:Region                          19.1      4   394.34    120   1.4541\n",
       "Regularity:Consistency:Laterality           0.7      2    35.33     60   0.6212\n",
       "Regularity:Consistency:Region               8.6      2    78.81     60   3.2593\n",
       "Regularity:Laterality:Region                0.1      4    21.30    120   0.1121\n",
       "Consistency:Laterality:Region               0.3      4    17.38    120   0.4695\n",
       "Regularity:Consistency:Laterality:Region    0.5      4    16.17    120   0.9617\n",
       "                                            Pr(>F)    \n",
       "(Intercept)                              3.022e-12 ***\n",
       "Regularity                                 0.89166    \n",
       "Consistency                                0.12754    \n",
       "Laterality                               5.802e-05 ***\n",
       "Region                                   < 2.2e-16 ***\n",
       "Regularity:Consistency                     0.98754    \n",
       "Regularity:Laterality                      0.06417 .  \n",
       "Consistency:Laterality                     0.01015 *  \n",
       "Regularity:Region                          0.98582    \n",
       "Consistency:Region                         0.07951 .  \n",
       "Laterality:Region                          0.22052    \n",
       "Regularity:Consistency:Laterality          0.54074    \n",
       "Regularity:Consistency:Region              0.04532 *  \n",
       "Regularity:Laterality:Region               0.97806    \n",
       "Consistency:Laterality:Region              0.75805    \n",
       "Regularity:Consistency:Laterality:Region   0.43121    \n",
       "---\n",
       "Signif. codes:  0 ‘***’ 0.001 ‘**’ 0.01 ‘*’ 0.05 ‘.’ 0.1 ‘ ’ 1\n",
       "\n",
       "\n",
       "Mauchly Tests for Sphericity\n",
       "\n",
       "                                         Test statistic p-value\n",
       "Laterality                                      0.65253 0.00205\n",
       "Region                                          0.45497 0.00001\n",
       "Regularity:Laterality                           0.93999 0.40767\n",
       "Consistency:Laterality                          0.69469 0.00508\n",
       "Regularity:Region                               0.58675 0.00044\n",
       "Consistency:Region                              0.59972 0.00060\n",
       "Laterality:Region                               0.50104 0.02056\n",
       "Regularity:Consistency:Laterality               0.89224 0.19143\n",
       "Regularity:Consistency:Region                   0.51053 0.00006\n",
       "Regularity:Laterality:Region                    0.56299 0.06095\n",
       "Consistency:Laterality:Region                   0.46145 0.00910\n",
       "Regularity:Consistency:Laterality:Region        0.51161 0.02513\n",
       "\n",
       "\n",
       "Greenhouse-Geisser and Huynh-Feldt Corrections\n",
       " for Departure from Sphericity\n",
       "\n",
       "                                          GG eps Pr(>F[GG])    \n",
       "Laterality                               0.74213  0.0003523 ***\n",
       "Region                                   0.64724  1.689e-12 ***\n",
       "Regularity:Laterality                    0.94339  0.0676074 .  \n",
       "Consistency:Laterality                   0.76610  0.0177498 *  \n",
       "Regularity:Region                        0.70759  0.9578303    \n",
       "Consistency:Region                       0.71414  0.0986713 .  \n",
       "Laterality:Region                        0.75380  0.2322907    \n",
       "Regularity:Consistency:Laterality        0.90273  0.5251989    \n",
       "Regularity:Consistency:Region            0.67138  0.0667230 .  \n",
       "Regularity:Laterality:Region             0.78677  0.9579234    \n",
       "Consistency:Laterality:Region            0.68976  0.6885100    \n",
       "Regularity:Consistency:Laterality:Region 0.78253  0.4169977    \n",
       "---\n",
       "Signif. codes:  0 ‘***’ 0.001 ‘**’ 0.01 ‘*’ 0.05 ‘.’ 0.1 ‘ ’ 1\n",
       "\n",
       "                                            HF eps   Pr(>F[HF])\n",
       "Laterality                               0.7717145 2.861909e-04\n",
       "Region                                   0.6641366 9.134874e-13\n",
       "Regularity:Laterality                    1.0046914 6.417047e-02\n",
       "Consistency:Laterality                   0.7991204 1.639854e-02\n",
       "Regularity:Region                        0.7323915 9.616180e-01\n",
       "Consistency:Region                       0.7398349 9.681854e-02\n",
       "Laterality:Region                        0.8474303 2.279269e-01\n",
       "Regularity:Consistency:Laterality        0.9570821 5.340694e-01\n",
       "Regularity:Consistency:Region            0.6913723 6.518890e-02\n",
       "Regularity:Laterality:Region             0.8896564 9.693511e-01\n",
       "Consistency:Laterality:Region            0.7665814 7.084364e-01\n",
       "Regularity:Consistency:Laterality:Region 0.8842039 4.242072e-01"
      ]
     },
     "metadata": {},
     "output_type": "display_data"
    },
    {
     "name": "stderr",
     "output_type": "stream",
     "text": [
      "NOTE: Results may be misleading due to involvement in interactions\n"
     ]
    },
    {
     "data": {
      "text/plain": [
       "Laterality = Left:\n",
       " contrast      estimate        SE    df t.ratio p.value\n",
       " High - Low  0.21131588 0.1184957 61.27   1.783  0.0795\n",
       "\n",
       "Laterality = Midline:\n",
       " contrast      estimate        SE    df t.ratio p.value\n",
       " High - Low  0.30204652 0.1184957 61.27   2.549  0.0133\n",
       "\n",
       "Laterality = Right:\n",
       " contrast      estimate        SE    df t.ratio p.value\n",
       " High - Low -0.06205066 0.1184957 61.27  -0.524  0.6024\n",
       "\n",
       "Results are averaged over the levels of: Regularity, Region "
      ]
     },
     "metadata": {},
     "output_type": "display_data"
    }
   ],
   "source": [
    "library(\"afex\")\n",
    "library(\"emmeans\")\n",
    "\n",
    "# WIthin-subject factors\n",
    "myData.P200$Regularity <- as.factor(myData.P200$Regularity)\n",
    "myData.P200$Consistency <- as.factor(myData.P200$Consistency)\n",
    "myData.P200$Laterality <- as.factor(myData.P200$Laterality)\n",
    "myData.P200$Region <- as.factor(myData.P200$Region)\n",
    "myData.P200$Sub <- as.factor(myData.P200$Sub)\n",
    "\n",
    "contrasts(myData.P200$Regularity) <- c(0.5, -0.5)\n",
    "contrasts(myData.P200$Consistency) <- c(0.5, -0.5)\n",
    "\n",
    "\n",
    "myData.P2_stat <- subset(myData.P200, myData.P200$Region!=\"Occipital\")\n",
    "\n",
    "# repeated measure anova\n",
    "mymodel.p2 <- aov_car(Amplitude~ (Regularity*Consistency*Laterality*Region + Error(Sub/(Regularity*Consistency*Laterality*Region))), \n",
    "                 data = myData.P2_stat)\n",
    "summary(mymodel.p2)\n",
    "\n",
    "# Post-hoc pairwise comparison\n",
    "m1 <- emmeans(mymodel.p2, ~ Consistency|Laterality)\n",
    "pairs(m1)"
   ]
  },
  {
   "cell_type": "markdown",
   "metadata": {},
   "source": [
    " ##### <font size= 5 color='DodgerBlue'> Model report <font> \n",
    "    \n",
    " <p style='text-align: justify;text-indent:2em;font-size:130%', size = 20> \n",
    "  The results show significant interaction between consistency and laterality $(p < .05)$ as well as significant main effect of laterality $(p <.001)$ and region $(p <.001)$. Post-hoc pairwise comparisons suggest that High consistent characters elicit more positive going P200 than low consistent characters mainly in the midline area $(p < .05)$.\n",
    "<p> "
   ]
  },
  {
   "cell_type": "markdown",
   "metadata": {},
   "source": [
    "###  <font color='DodgerBlue'> 4.1.2 Repeated measure ANOVA on N400 <font>  \n",
    "    \n",
    " <p style='text-align: justify;text-indent:2em;font-size:130%', size = 20> \n",
    "  I conducted 2 by 2 by 2 by 2 repeated measure ANOVA on the mean amplitude of N400 with consistency (High vs. Low), regularity (Regular vs. Irregular), laterality (Left vs. Midline vs. Right) and region (Central vs. Parietal) as three within-subject variables. \n",
    "<p>   \n",
    "  "
   ]
  },
  {
   "cell_type": "code",
   "execution_count": 40,
   "metadata": {},
   "outputs": [
    {
     "name": "stderr",
     "output_type": "stream",
     "text": [
      "Warning message in summary.Anova.mlm(object$Anova, multivariate = FALSE):\n",
      "“HF eps > 1 treated as 1”"
     ]
    },
    {
     "data": {
      "text/plain": [
       "\n",
       "Univariate Type III Repeated-Measures ANOVA Assuming Sphericity\n",
       "\n",
       "                                          Sum Sq num Df Error SS den Df F value\n",
       "(Intercept)                              170.437      1  1247.64     30  4.0982\n",
       "Regularity                                 0.134      1    90.15     30  0.0445\n",
       "Consistency                               17.319      1    45.32     30 11.4638\n",
       "Laterality                                42.931      2   577.40     60  2.2306\n",
       "Region                                    29.139      1   351.24     30  2.4888\n",
       "Regularity:Consistency                     4.010      1    40.54     30  2.9674\n",
       "Regularity:Laterality                      0.828      2    37.36     60  0.6652\n",
       "Consistency:Laterality                    10.842      2    37.50     60  8.6727\n",
       "Regularity:Region                          2.521      1    29.33     30  2.5790\n",
       "Consistency:Region                         0.054      1    23.73     30  0.0680\n",
       "Laterality:Region                         36.459      2   439.98     60  2.4859\n",
       "Regularity:Consistency:Laterality          1.455      2    50.52     60  0.8641\n",
       "Regularity:Consistency:Region              1.998      1    16.45     30  3.6453\n",
       "Regularity:Laterality:Region               0.018      2     7.84     60  0.0671\n",
       "Consistency:Laterality:Region              0.407      2     7.14     60  1.7099\n",
       "Regularity:Consistency:Laterality:Region   0.154      2     5.72     60  0.8064\n",
       "                                            Pr(>F)    \n",
       "(Intercept)                              0.0519110 .  \n",
       "Regularity                               0.8343316    \n",
       "Consistency                              0.0019966 ** \n",
       "Laterality                               0.1163028    \n",
       "Region                                   0.1251485    \n",
       "Regularity:Consistency                   0.0952565 .  \n",
       "Regularity:Laterality                    0.5179434    \n",
       "Consistency:Laterality                   0.0004915 ***\n",
       "Regularity:Region                        0.1187645    \n",
       "Consistency:Region                       0.7960423    \n",
       "Laterality:Region                        0.0917861 .  \n",
       "Regularity:Consistency:Laterality        0.4266080    \n",
       "Regularity:Consistency:Region            0.0658339 .  \n",
       "Regularity:Laterality:Region             0.9352166    \n",
       "Consistency:Laterality:Region            0.1895813    \n",
       "Regularity:Consistency:Laterality:Region 0.4512419    \n",
       "---\n",
       "Signif. codes:  0 ‘***’ 0.001 ‘**’ 0.01 ‘*’ 0.05 ‘.’ 0.1 ‘ ’ 1\n",
       "\n",
       "\n",
       "Mauchly Tests for Sphericity\n",
       "\n",
       "                                         Test statistic p-value\n",
       "Laterality                                      0.84389 0.08534\n",
       "Regularity:Laterality                           0.97499 0.69267\n",
       "Consistency:Laterality                          0.50729 0.00005\n",
       "Laterality:Region                               0.74063 0.01286\n",
       "Regularity:Consistency:Laterality               0.75532 0.01710\n",
       "Regularity:Laterality:Region                    0.95775 0.53479\n",
       "Consistency:Laterality:Region                   0.97208 0.66324\n",
       "Regularity:Consistency:Laterality:Region        0.96601 0.60564\n",
       "\n",
       "\n",
       "Greenhouse-Geisser and Huynh-Feldt Corrections\n",
       " for Departure from Sphericity\n",
       "\n",
       "                                          GG eps Pr(>F[GG])   \n",
       "Laterality                               0.86497   0.124350   \n",
       "Regularity:Laterality                    0.97560   0.514464   \n",
       "Consistency:Laterality                   0.66992   0.002602 **\n",
       "Laterality:Region                        0.79405   0.105077   \n",
       "Regularity:Consistency:Laterality        0.80342   0.406275   \n",
       "Regularity:Laterality:Region             0.95947   0.929269   \n",
       "Consistency:Laterality:Region            0.97284   0.190548   \n",
       "Regularity:Consistency:Laterality:Region 0.96713   0.447717   \n",
       "---\n",
       "Signif. codes:  0 ‘***’ 0.001 ‘**’ 0.01 ‘*’ 0.05 ‘.’ 0.1 ‘ ’ 1\n",
       "\n",
       "                                            HF eps  Pr(>F[HF])\n",
       "Laterality                               0.9131228 0.121446830\n",
       "Regularity:Laterality                    1.0426022 0.517943352\n",
       "Consistency:Laterality                   0.6897265 0.002352751\n",
       "Laterality:Region                        0.8311851 0.102581675\n",
       "Regularity:Consistency:Laterality        0.8419630 0.410681068\n",
       "Regularity:Laterality:Region             1.0235885 0.935216565\n",
       "Consistency:Laterality:Region            1.0393386 0.189581350\n",
       "Regularity:Consistency:Laterality:Region 1.0326066 0.451241919"
      ]
     },
     "metadata": {},
     "output_type": "display_data"
    },
    {
     "name": "stderr",
     "output_type": "stream",
     "text": [
      "NOTE: Results may be misleading due to involvement in interactions\n"
     ]
    },
    {
     "data": {
      "text/plain": [
       "Laterality = Left:\n",
       " contrast     estimate        SE    df t.ratio p.value\n",
       " High - Low  0.4626087 0.1218321 74.64   3.797  0.0003\n",
       "\n",
       "Laterality = Midline:\n",
       " contrast     estimate        SE    df t.ratio p.value\n",
       " High - Low  0.4887733 0.1218321 74.64   4.012  0.0001\n",
       "\n",
       "Laterality = Right:\n",
       " contrast     estimate        SE    df t.ratio p.value\n",
       " High - Low -0.0359612 0.1218321 74.64  -0.295  0.7687\n",
       "\n",
       "Results are averaged over the levels of: Regularity, Region "
      ]
     },
     "metadata": {},
     "output_type": "display_data"
    }
   ],
   "source": [
    "myData.N400$Regularity <- as.factor(myData.N400$Regularity)\n",
    "myData.N400$Consistency <- as.factor(myData.N400$Consistency)\n",
    "myData.N400$Laterality <- as.factor(myData.N400$Laterality)\n",
    "myData.N400$Region <- as.factor(myData.N400$Region)\n",
    "myData.N400$Sub <- as.factor(myData.N400$Sub)\n",
    "\n",
    "contrasts(myData.N400$Regularity) <- c(0.5, -0.5)\n",
    "contrasts(myData.N400$Consistency) <- c(0.5, -0.5)\n",
    "\n",
    "# Use data of central and parietal regions only\n",
    "myData.N4_stat <- subset(myData.N400, myData.N400$Region==\"Central\" | myData.N400$Region==\"Parietal\")\n",
    "\n",
    "# Repeated measure ANOVA\n",
    "mymodel.N4 <- aov_car(Amplitude ~ (Regularity*Consistency*Laterality*Region + Error(Sub/(Regularity*Consistency*Laterality*Region))), \n",
    "                  data = myData.N4_stat)\n",
    "\n",
    "summary(mymodel.N4)\n",
    "\n",
    "# Post-hoc pairwise comparisons\n",
    "m1 <- emmeans(mymodel.N4, ~ Consistency|Laterality)\n",
    "pairs(m1)"
   ]
  },
  {
   "cell_type": "markdown",
   "metadata": {},
   "source": [
    " ##### <font size= 5 color='DodgerBlue'> Model report <font> \n",
    "<p style='text-align: justify;text-indent:2em;font-size:130%', size = 20> \n",
    "  The results show significant interaction between consistency and laterality $(p < .05)$ as well as significant main effect of consistency $(p <.05)$. Post-hoc pairwise comparisons suggest that high consistent characters elicit less negative going N400 than low consistent characters in the midline $(p < .001)$ and left hemisphere $(p < .001)$.\n",
    "<p> "
   ]
  },
  {
   "cell_type": "markdown",
   "metadata": {},
   "source": [
    "   ### <font  color='DodgerBlue'> 4.1.3 Visualizing the interaction between consistency and Laterality in ERPs<font>  \n",
    "    \n",
    " <p style='text-align: justify;text-indent:2em;font-size:130%', size = 20> \n",
    "  To summarize, analyses in both P200 and N400 revealed significant interaction between consistency and laterality. So here I plot the consistency effect on the mean amplitude of P200 and N400 in different hemispheres.\n",
    "<p> \n",
    " <p style='text-align: justify;text-indent:2em;font-size:130%', size = 20> \n",
    "  For the P200 (see the following figure), high consistent characters produce MORE positive-going P200 than low consistent characters and this consistency effect is more prominent in the midline area. \n",
    "<p> \n",
    " <p style='text-align: justify;text-indent:2em;font-size:130%', size = 20> \n",
    "  For the N400 (see the following figure), high consistent characters produce LESS negative-goinng N400 than low consistent characters and this consistency effect is more prominent in the midline and left hemisphere. \n",
    "<p> "
   ]
  },
  {
   "cell_type": "code",
   "execution_count": 46,
   "metadata": {
    "scrolled": true
   },
   "outputs": [
    {
     "data": {
      "image/png": "[encoded data removed]",
      "text/plain": [
       "plot without title"
      ]
     },
     "metadata": {},
     "output_type": "display_data"
    },
    {
     "data": {
      "image/png": "[encoded data removed]",
      "text/plain": [
       "plot without title"
      ]
     },
     "metadata": {},
     "output_type": "display_data"
    }
   ],
   "source": [
    "options(repr.plot.width=8, repr.plot.height=3)\n",
    "# This is to reference a written function in caculating the standard error of a set of data\n",
    "source(\"~/Dropbox/Research/Regularity and Consistency/Experiment 2/_Behavioral/summarySE.R\")\n",
    "\n",
    "# Plot the interaction between consistency and laterality in P200 data\n",
    "p2Data <- summarySE(myData.P2_stat,measurevar=\"Amplitude\", groupvars=c(\"Consistency\",\"Laterality\"))\n",
    "\n",
    "ggplot(data = p2Data, mapping = aes(x=Laterality,y=Amplitude, fill=Consistency), stat = \"identity\")+\n",
    "  stat_summary(fun.y = \"mean\", geom = \"bar\",position=position_dodge()) + \n",
    "  geom_errorbar(aes(ymin=p2Data$Amplitude-se, ymax=p2Data$Amplitude+se),width=.1,position=position_dodge(.9)) +\n",
    "  scale_y_continuous(labs( \"P200 mean amplitude\"),breaks=seq(0.5, 2.5, 0.1)) +\n",
    "  theme_gray(base_size = 10)+ \n",
    "  ggtitle(\"P200 mean amplitude across 170-260 ms\")\n",
    "\n",
    "# Plot the interaction between consistency and laterality in N400 data\n",
    "n4Data <- summarySE(myData.N4_stat,measurevar=\"Amplitude\", groupvars=c(\"Consistency\",\"Laterality\"))\n",
    "\n",
    "ggplot(data = n4Data, mapping = aes(x=Laterality,y=Amplitude, fill=Consistency), stat = \"identity\")+\n",
    "  stat_summary(fun.y = \"mean\", geom = \"bar\",position=position_dodge()) + \n",
    "  geom_errorbar(aes(ymin=n4Data$Amplitude-se, ymax=n4Data$Amplitude+se),width=.1,position=position_dodge(.9)) +\n",
    "  scale_y_continuous(labs( \"N400 mean amplitude\"),breaks=seq(-2.5, 0, 0.1)) +\n",
    "  theme_gray(base_size = 10)+ \n",
    "  ggtitle(\"N400 mean amplitude across 300-450 ms\")"
   ]
  },
  {
   "cell_type": "markdown",
   "metadata": {},
   "source": [
    "<font Size = 5> ERP plot <Font>\n",
    "<img src=\"ERP results.png\" align= \"center\" width=\"704\" height=\"228\">"
   ]
  },
  {
   "cell_type": "markdown",
   "metadata": {},
   "source": [
    "##  <font color='DodgerBlue'> 4.2 Behavioral data analyses<font>\n",
    "\n",
    "### <font color='DodgerBlue'> 4.2.1 Logistic regression for online and offline accuracy (Method 2) <font> \n",
    "\n",
    "   #### <font color='DodgerBlue'>  4.2.1.1 Online accuracy <font> \n",
    " \n",
    " ##### <font size= 5 color='DodgerBlue'> Mixed effect logistic regression <font> \n",
    "    \n",
    "<p style='text-align: justify;text-indent:2em;font-size:130%', size = 20>    \n",
    "  In this logistic regression, the logit is $ log[\\frac{p(correct)}{1-p(correct)}]$ and $ p(correct)$ is the probability of correctly transcribing the pronunciation of the character. I conducted explorative data analyses by considering several alternative models and then comparing them. The results show that model 3 is superior than model 2 and more parsimonious than model 4. Therefore, model 3 is selected as the final model.\n",
    "<p> \n"
   ]
  },
  {
   "cell_type": "code",
   "execution_count": 47,
   "metadata": {
    "scrolled": false
   },
   "outputs": [
    {
     "name": "stderr",
     "output_type": "stream",
     "text": [
      "Warning message in checkConv(attr(opt, \"derivs\"), opt$par, ctrl = control$checkConv, :\n",
      "“Model failed to converge with max|grad| = 0.0175326 (tol = 0.001, component 1)”"
     ]
    },
    {
     "data": {
      "text/html": [
       "<table>\n",
       "<thead><tr><th></th><th scope=col>Df</th><th scope=col>AIC</th><th scope=col>BIC</th><th scope=col>logLik</th><th scope=col>deviance</th><th scope=col>Chisq</th><th scope=col>Chi Df</th><th scope=col>Pr(&gt;Chisq)</th></tr></thead>\n",
       "<tbody>\n",
       "\t<tr><th scope=row>online_acc_model.s1</th><td>6        </td><td>3110.809 </td><td>3151.600 </td><td>-1549.404</td><td>3098.809 </td><td>NA       </td><td>NA       </td><td>NA       </td></tr>\n",
       "\t<tr><th scope=row>online_acc_model.s2</th><td>7        </td><td>3112.809 </td><td>3160.398 </td><td>-1549.404</td><td>3098.809 </td><td> 0       </td><td> 1       </td><td> 1       </td></tr>\n",
       "</tbody>\n",
       "</table>\n"
      ],
      "text/latex": [
       "\\begin{tabular}{r|llllllll}\n",
       "  & Df & AIC & BIC & logLik & deviance & Chisq & Chi Df & Pr(>Chisq)\\\\\n",
       "\\hline\n",
       "\tonline\\_acc\\_model.s1 & 6         & 3110.809  & 3151.600  & -1549.404 & 3098.809  & NA        & NA        & NA       \\\\\n",
       "\tonline\\_acc\\_model.s2 & 7         & 3112.809  & 3160.398  & -1549.404 & 3098.809  &  0        &  1        &  1       \\\\\n",
       "\\end{tabular}\n"
      ],
      "text/markdown": [
       "\n",
       "| <!--/--> | Df | AIC | BIC | logLik | deviance | Chisq | Chi Df | Pr(>Chisq) |\n",
       "|---|---|---|---|---|---|---|---|---|\n",
       "| online_acc_model.s1 | 6         | 3110.809  | 3151.600  | -1549.404 | 3098.809  | NA        | NA        | NA        |\n",
       "| online_acc_model.s2 | 7         | 3112.809  | 3160.398  | -1549.404 | 3098.809  |  0        |  1        |  1        |\n",
       "\n"
      ],
      "text/plain": [
       "                    Df AIC      BIC      logLik    deviance Chisq Chi Df\n",
       "online_acc_model.s1 6  3110.809 3151.600 -1549.404 3098.809 NA    NA    \n",
       "online_acc_model.s2 7  3112.809 3160.398 -1549.404 3098.809  0     1    \n",
       "                    Pr(>Chisq)\n",
       "online_acc_model.s1 NA        \n",
       "online_acc_model.s2  1        "
      ]
     },
     "metadata": {},
     "output_type": "display_data"
    },
    {
     "data": {
      "text/html": [
       "<table>\n",
       "<thead><tr><th></th><th scope=col>Df</th><th scope=col>AIC</th><th scope=col>BIC</th><th scope=col>logLik</th><th scope=col>deviance</th><th scope=col>Chisq</th><th scope=col>Chi Df</th><th scope=col>Pr(&gt;Chisq)</th></tr></thead>\n",
       "<tbody>\n",
       "\t<tr><th scope=row>online_acc_model.s2</th><td>7        </td><td>3112.809 </td><td>3160.398 </td><td>-1549.404</td><td>3098.809 </td><td>      NA </td><td>NA       </td><td>       NA</td></tr>\n",
       "\t<tr><th scope=row>online_acc_model.s3</th><td>9        </td><td>3109.838 </td><td>3171.024 </td><td>-1545.919</td><td>3091.838 </td><td>6.970871 </td><td> 2       </td><td>0.0306404</td></tr>\n",
       "</tbody>\n",
       "</table>\n"
      ],
      "text/latex": [
       "\\begin{tabular}{r|llllllll}\n",
       "  & Df & AIC & BIC & logLik & deviance & Chisq & Chi Df & Pr(>Chisq)\\\\\n",
       "\\hline\n",
       "\tonline\\_acc\\_model.s2 & 7         & 3112.809  & 3160.398  & -1549.404 & 3098.809  &       NA  & NA        &        NA\\\\\n",
       "\tonline\\_acc\\_model.s3 & 9         & 3109.838  & 3171.024  & -1545.919 & 3091.838  & 6.970871  &  2        & 0.0306404\\\\\n",
       "\\end{tabular}\n"
      ],
      "text/markdown": [
       "\n",
       "| <!--/--> | Df | AIC | BIC | logLik | deviance | Chisq | Chi Df | Pr(>Chisq) |\n",
       "|---|---|---|---|---|---|---|---|---|\n",
       "| online_acc_model.s2 | 7         | 3112.809  | 3160.398  | -1549.404 | 3098.809  |       NA  | NA        |        NA |\n",
       "| online_acc_model.s3 | 9         | 3109.838  | 3171.024  | -1545.919 | 3091.838  | 6.970871  |  2        | 0.0306404 |\n",
       "\n"
      ],
      "text/plain": [
       "                    Df AIC      BIC      logLik    deviance Chisq    Chi Df\n",
       "online_acc_model.s2 7  3112.809 3160.398 -1549.404 3098.809       NA NA    \n",
       "online_acc_model.s3 9  3109.838 3171.024 -1545.919 3091.838 6.970871  2    \n",
       "                    Pr(>Chisq)\n",
       "online_acc_model.s2        NA \n",
       "online_acc_model.s3 0.0306404 "
      ]
     },
     "metadata": {},
     "output_type": "display_data"
    },
    {
     "data": {
      "text/html": [
       "<table>\n",
       "<thead><tr><th></th><th scope=col>Df</th><th scope=col>AIC</th><th scope=col>BIC</th><th scope=col>logLik</th><th scope=col>deviance</th><th scope=col>Chisq</th><th scope=col>Chi Df</th><th scope=col>Pr(&gt;Chisq)</th></tr></thead>\n",
       "<tbody>\n",
       "\t<tr><th scope=row>online_acc_model.s3</th><td> 9       </td><td>3109.838 </td><td>3171.024 </td><td>-1545.919</td><td>3091.838 </td><td>      NA </td><td>NA       </td><td>       NA</td></tr>\n",
       "\t<tr><th scope=row>online_acc_model.s4</th><td>10       </td><td>3110.094 </td><td>3178.079 </td><td>-1545.047</td><td>3090.094 </td><td>1.743857 </td><td> 1       </td><td>0.1866509</td></tr>\n",
       "</tbody>\n",
       "</table>\n"
      ],
      "text/latex": [
       "\\begin{tabular}{r|llllllll}\n",
       "  & Df & AIC & BIC & logLik & deviance & Chisq & Chi Df & Pr(>Chisq)\\\\\n",
       "\\hline\n",
       "\tonline\\_acc\\_model.s3 &  9        & 3109.838  & 3171.024  & -1545.919 & 3091.838  &       NA  & NA        &        NA\\\\\n",
       "\tonline\\_acc\\_model.s4 & 10        & 3110.094  & 3178.079  & -1545.047 & 3090.094  & 1.743857  &  1        & 0.1866509\\\\\n",
       "\\end{tabular}\n"
      ],
      "text/markdown": [
       "\n",
       "| <!--/--> | Df | AIC | BIC | logLik | deviance | Chisq | Chi Df | Pr(>Chisq) |\n",
       "|---|---|---|---|---|---|---|---|---|\n",
       "| online_acc_model.s3 |  9        | 3109.838  | 3171.024  | -1545.919 | 3091.838  |       NA  | NA        |        NA |\n",
       "| online_acc_model.s4 | 10        | 3110.094  | 3178.079  | -1545.047 | 3090.094  | 1.743857  |  1        | 0.1866509 |\n",
       "\n"
      ],
      "text/plain": [
       "                    Df AIC      BIC      logLik    deviance Chisq    Chi Df\n",
       "online_acc_model.s3  9 3109.838 3171.024 -1545.919 3091.838       NA NA    \n",
       "online_acc_model.s4 10 3110.094 3178.079 -1545.047 3090.094 1.743857  1    \n",
       "                    Pr(>Chisq)\n",
       "online_acc_model.s3        NA \n",
       "online_acc_model.s4 0.1866509 "
      ]
     },
     "metadata": {},
     "output_type": "display_data"
    },
    {
     "data": {
      "text/plain": [
       "Generalized linear mixed model fit by maximum likelihood (Laplace\n",
       "  Approximation) [glmerMod]\n",
       " Family: binomial  ( logit )\n",
       "Formula: \n",
       "Accuracy ~ Regularity * Consistency + ProbeCondition + Consistency:ProbeCondition +  \n",
       "    Regularity:ProbeCondition + (1 | Subject) + (1 | Target)\n",
       "   Data: myData.behavior\n",
       "\n",
       "     AIC      BIC   logLik deviance df.resid \n",
       "  3109.8   3171.0  -1545.9   3091.8     6615 \n",
       "\n",
       "Scaled residuals: \n",
       "     Min       1Q   Median       3Q      Max \n",
       "-16.7950   0.0654   0.1463   0.2778   1.9503 \n",
       "\n",
       "Random effects:\n",
       " Groups  Name        Variance Std.Dev.\n",
       " Target  (Intercept) 1.6191   1.2725  \n",
       " Subject (Intercept) 0.2787   0.5279  \n",
       "Number of obs: 6624, groups:  Target, 184; Subject, 36\n",
       "\n",
       "Fixed effects:\n",
       "                              Estimate Std. Error z value Pr(>|z|)    \n",
       "(Intercept)                   3.554802   0.158252  22.463   <2e-16 ***\n",
       "Regularity1                  -0.152420   0.247389  -0.616   0.5378    \n",
       "Consistency1                  0.292007   0.247445   1.180   0.2380    \n",
       "ProbeCondition1               2.832340   0.150709  18.793   <2e-16 ***\n",
       "Regularity1:Consistency1      0.006925   0.437073   0.016   0.9874    \n",
       "Consistency1:ProbeCondition1 -0.576807   0.296110  -1.948   0.0514 .  \n",
       "Regularity1:ProbeCondition1   0.577093   0.295401   1.954   0.0507 .  \n",
       "---\n",
       "Signif. codes:  0 ‘***’ 0.001 ‘**’ 0.01 ‘*’ 0.05 ‘.’ 0.1 ‘ ’ 1\n",
       "\n",
       "Correlation of Fixed Effects:\n",
       "            (Intr) Rglrt1 Cnsst1 PrbCn1 Rg1:C1 C1:PC1\n",
       "Regularity1  0.003                                   \n",
       "Consistncy1  0.017  0.002                            \n",
       "ProbeCndtn1  0.406  0.026  0.018                     \n",
       "Rglrty1:Cn1 -0.001  0.020 -0.012  0.007              \n",
       "Cnsstn1:PC1  0.005  0.008  0.469  0.058  0.018       \n",
       "Rglrty1:PC1  0.028  0.469  0.006  0.023 -0.010  0.002"
      ]
     },
     "metadata": {},
     "output_type": "display_data"
    },
    {
     "data": {
      "text/plain": [
       "$emmeans\n",
       "ProbeCondition = Control:\n",
       " Regularity   emmean        SE  df asymp.LCL asymp.UCL\n",
       " Irregular  5.039035 0.2668430 Inf  4.516032  5.562038\n",
       " Regular    4.902908 0.2612033 Inf  4.390959  5.414857\n",
       "\n",
       "ProbeCondition = Homophone:\n",
       " Regularity   emmean        SE  df asymp.LCL asymp.UCL\n",
       " Irregular  1.918149 0.1801908 Inf  1.564982  2.271316\n",
       " Regular    2.359115 0.1844007 Inf  1.997697  2.720534\n",
       "\n",
       "Results are averaged over the levels of: Consistency \n",
       "Results are given on the logit (not the response) scale. \n",
       "Confidence level used: 0.95 \n",
       "\n",
       "$contrasts\n",
       "ProbeCondition = Control:\n",
       " contrast              estimate        SE  df z.ratio p.value\n",
       " Irregular - Regular  0.1361266 0.3424523 Inf   0.398  0.6910\n",
       "\n",
       "ProbeCondition = Homophone:\n",
       " contrast              estimate        SE  df z.ratio p.value\n",
       " Irregular - Regular -0.4409663 0.2208161 Inf  -1.997  0.0458\n",
       "\n",
       "Results are averaged over the levels of: Consistency \n",
       "Results are given on the log odds ratio (not the response) scale. \n"
      ]
     },
     "metadata": {},
     "output_type": "display_data"
    },
    {
     "data": {
      "text/plain": [
       "$emmeans\n",
       "ProbeCondition = Control:\n",
       " Consistency   emmean        SE  df asymp.LCL asymp.UCL\n",
       " High        4.972774 0.2674828 Inf  4.448517  5.497030\n",
       " Low         4.969170 0.2607875 Inf  4.458036  5.480304\n",
       "\n",
       "ProbeCondition = Homophone:\n",
       " Consistency   emmean        SE  df asymp.LCL asymp.UCL\n",
       " High        2.428837 0.1846282 Inf  2.066973  2.790702\n",
       " Low         1.848427 0.1799786 Inf  1.495675  2.201178\n",
       "\n",
       "Results are averaged over the levels of: Regularity \n",
       "Results are given on the logit (not the response) scale. \n",
       "Confidence level used: 0.95 \n",
       "\n",
       "$contrasts\n",
       "ProbeCondition = Control:\n",
       " contrast    estimate        SE  df z.ratio p.value\n",
       " High - Low 0.0036037 0.3428167 Inf   0.011  0.9916\n",
       "\n",
       "ProbeCondition = Homophone:\n",
       " contrast    estimate        SE  df z.ratio p.value\n",
       " High - Low 0.5804106 0.2208501 Inf   2.628  0.0086\n",
       "\n",
       "Results are averaged over the levels of: Regularity \n",
       "Results are given on the log odds ratio (not the response) scale. \n"
      ]
     },
     "metadata": {},
     "output_type": "display_data"
    }
   ],
   "source": [
    "myData.behavior $Regularity <- as.factor(myData.behavior$Regularity)\n",
    "myData.behavior$Consistency <- as.factor(myData.behavior$Consistency)\n",
    "myData.behavior$ProbeCondition <- as.factor(myData.behavior$ProbeCondition)\n",
    "\n",
    "contrasts(myData.behavior$Regularity) <- c(0.5, -0.5)\n",
    "contrasts(myData.behavior$Consistency) <- c(0.5, -0.5)\n",
    "contrasts(myData.behavior$ProbeCondition) <- c(0.5, -0.5)\n",
    "\n",
    "\n",
    "online_acc_model.s1 <- glmer(Accuracy ~ Regularity + Consistency + ProbeCondition + (1|Subject) +\n",
    "                         (1|Target),data = myData.behavior, family = binomial)\n",
    "\n",
    "online_acc_model.s2 <- glmer(Accuracy ~ Regularity*Consistency + ProbeCondition + (1|Subject) +\n",
    "                         (1|Target),data = myData.behavior, family = binomial)\n",
    "\n",
    "online_acc_model.s3 <- glmer(Accuracy ~ Regularity*Consistency + ProbeCondition +\n",
    "                      Consistency:ProbeCondition + Regularity:ProbeCondition +(1|Subject) +\n",
    "                        (1|Target), data = myData.behavior, family = binomial)\n",
    "\n",
    "online_acc_model.s4 <- glmer(Accuracy ~ Regularity*Consistency*ProbeCondition + (1|Subject) +\n",
    "                         (1|Target),data = myData.behavior, family = binomial)\n",
    "\n",
    "anova(online_acc_model.s1,online_acc_model.s2)\n",
    "anova(online_acc_model.s2,online_acc_model.s3)\n",
    "anova(online_acc_model.s3,online_acc_model.s4)\n",
    "\n",
    "summary(online_acc_model.s3)\n",
    "emmeans(online_acc_model.s3,pairwise~Regularity|ProbeCondition, adjust=\"bonf\")\n",
    "emmeans(online_acc_model.s3,pairwise~Consistency|ProbeCondition, adjust=\"bonf\")"
   ]
  },
  {
   "cell_type": "markdown",
   "metadata": {},
   "source": [
    "##### <font size= 5 color='DodgerBlue'> Model report <font> \n",
    " \n",
    " <p style='text-align: justify;text-indent:2em;font-size:130%', size = 20>    \n",
    "  In terms of model 3, the main effect of probe condition $(p < .001)$ is significant after the variance associated with subject and items is simultaneously controlled for. Also, the two-way interaction between consistency and probe condition $(p = .05)$ and that between regularity and probe condition $(p = .05)$ is marginally significant. Further analyses suggest that both consistency and regularity mainly impact the homophone trials only.\n",
    "<p> \n",
    "\n",
    " <p style='text-align: justify;text-indent:2em;font-size:130%', size = 20>   \n",
    "             The fixed-effect parameter estimates, standard errors and significant test are shown above. Specifically, the estimated intercept is 2.9566, which means that the estimated average logits is 3.5548. Apply exp() to the logits, we get the average odds () of correct transcription, which is around 34.98. In addition, the consistency has a significant positive effect (+0.5804) on correct judging homophone trials, indicating that the average difference between high consitency and low consitency characters is 0.5804 logits. Apply exp() to the logits, we get 1.79, which means that high-consistency characters marginally $ (p < .05)$  increase odds by 1.79 times in comparison with low-consistency characters. Similarly, the regularity has a negative effect (-0.4409)on correct judging homophone trials, indicating that the average difference between high consitency and low consitency characters is 0.4409 logits. Apply exp() to the logits, we get 1.55, which means that irregular characters marginally $ (p < .05)$ decrease odds by 1.55 times in comparison with regular characters.\n",
    "<p>"
   ]
  },
  {
   "cell_type": "markdown",
   "metadata": {},
   "source": [
    "   #####  <font size =5 color='DodgerBlue'>Visualizing the results of online accuracy <font> "
   ]
  },
  {
   "cell_type": "code",
   "execution_count": 48,
   "metadata": {},
   "outputs": [
    {
     "data": {
      "image/png": "[encoded data removed]",
      "text/plain": [
       "plot without title"
      ]
     },
     "metadata": {},
     "output_type": "display_data"
    }
   ],
   "source": [
    "library(gridExtra)\n",
    "\n",
    "options(repr.plot.width=8, repr.plot.height=3)\n",
    "\n",
    "ConsistencyData_Homophone <- summarySE(subset(myData.behavior, myData.behavior$ProbeCondition==\"Homophone\"),\n",
    "                                       measurevar=\"Accuracy\", groupvars=c(\"Consistency\"))\n",
    "\n",
    "RegularityData_Homophone <- summarySE(subset(myData.behavior, myData.behavior$ProbeCondition==\"Homophone\"),\n",
    "                                      measurevar=\"Accuracy\", groupvars=c(\"Regularity\"))\n",
    "\n",
    "\n",
    "p1 <- ggplot(data = ConsistencyData_Homophone, mapping = aes(x=Consistency,y=ConsistencyData_Homophone$Accuracy, \n",
    "                                                       fill=Consistency),stat = \"identity\")+\n",
    "  stat_summary(fun.y = \"mean\", geom = \"bar\", width = 1,position=position_dodge()) + \n",
    "  geom_errorbar(aes(x=Consistency, ymin=ConsistencyData_Homophone$Accuracy-se, \n",
    "                    ymax=ConsistencyData_Homophone$Accuracy+se),width=.1) +\n",
    "  scale_fill_manual(values=c(\"darkgrey\",\"deepskyblue3\"))+\n",
    "  scale_x_discrete(labels = c(\"High\", \"Low\"),expand = c(0.8,0.8))+ \n",
    "  scale_y_continuous(labs( \"Mean accuracy\"),breaks=seq(0.5, 1.5, 0.1)) +\n",
    "  theme_gray(base_size = 11)+ ggtitle(\"Consistency effects in homophone trials\")\n",
    "\n",
    "p2 <- ggplot(data = RegularityData_Homophone, mapping = aes(x=Regularity,y=RegularityData_Homophone$Accuracy, fill=Regularity),stat = \"identity\")+\n",
    "  stat_summary(fun.y = \"mean\", geom = \"bar\",width = 1,position=position_dodge()) + \n",
    "  geom_errorbar(aes(x=Regularity, ymin=RegularityData_Homophone$Accuracy-se, ymax=RegularityData_Homophone$Accuracy+se),width=.1) +\n",
    "  scale_x_discrete(limits = c(\"Regular\", \"Irregular\"),expand = c(0.8,0.8))+ \n",
    "  scale_y_continuous(labs( \"Mean accuracy\"),breaks=seq(0.5, 1.5, 0.1)) +\n",
    "  theme_gray(base_size = 11)+ ggtitle(\"Regularity effects in homophone trials\")\n",
    "\n",
    "grid.arrange(p1, p2, ncol=2)"
   ]
  },
  {
   "cell_type": "markdown",
   "metadata": {},
   "source": [
    "   #### <font color='DodgerBlue'>  4.2.1.2 Offline accuracy <font> \n",
    "          \n",
    "   <font size =5 color='DodgerBlue'>Mixed effect logistic regression <font> \n",
    "   "
   ]
  },
  {
   "cell_type": "code",
   "execution_count": 49,
   "metadata": {},
   "outputs": [
    {
     "name": "stderr",
     "output_type": "stream",
     "text": [
      "Warning message in checkConv(attr(opt, \"derivs\"), opt$par, ctrl = control$checkConv, :\n",
      "“Model failed to converge with max|grad| = 0.169179 (tol = 0.001, component 1)”Warning message in checkConv(attr(opt, \"derivs\"), opt$par, ctrl = control$checkConv, :\n",
      "“Model is nearly unidentifiable: very large eigenvalue\n",
      " - Rescale variables?”"
     ]
    },
    {
     "data": {
      "text/html": [
       "<table>\n",
       "<thead><tr><th></th><th scope=col>Df</th><th scope=col>AIC</th><th scope=col>BIC</th><th scope=col>logLik</th><th scope=col>deviance</th><th scope=col>Chisq</th><th scope=col>Chi Df</th><th scope=col>Pr(&gt;Chisq)</th></tr></thead>\n",
       "<tbody>\n",
       "\t<tr><th scope=row>offline_acc_model.s1</th><td>5        </td><td>3992.709 </td><td>4026.702 </td><td>-1991.355</td><td>3982.709 </td><td>       NA</td><td>NA       </td><td>       NA</td></tr>\n",
       "\t<tr><th scope=row>offline_acc_model.s2</th><td>6        </td><td>3994.689 </td><td>4035.480 </td><td>-1991.345</td><td>3982.689 </td><td>0.0201028</td><td> 1       </td><td>0.8872504</td></tr>\n",
       "</tbody>\n",
       "</table>\n"
      ],
      "text/latex": [
       "\\begin{tabular}{r|llllllll}\n",
       "  & Df & AIC & BIC & logLik & deviance & Chisq & Chi Df & Pr(>Chisq)\\\\\n",
       "\\hline\n",
       "\toffline\\_acc\\_model.s1 & 5         & 3992.709  & 4026.702  & -1991.355 & 3982.709  &        NA & NA        &        NA\\\\\n",
       "\toffline\\_acc\\_model.s2 & 6         & 3994.689  & 4035.480  & -1991.345 & 3982.689  & 0.0201028 &  1        & 0.8872504\\\\\n",
       "\\end{tabular}\n"
      ],
      "text/markdown": [
       "\n",
       "| <!--/--> | Df | AIC | BIC | logLik | deviance | Chisq | Chi Df | Pr(>Chisq) |\n",
       "|---|---|---|---|---|---|---|---|---|\n",
       "| offline_acc_model.s1 | 5         | 3992.709  | 4026.702  | -1991.355 | 3982.709  |        NA | NA        |        NA |\n",
       "| offline_acc_model.s2 | 6         | 3994.689  | 4035.480  | -1991.345 | 3982.689  | 0.0201028 |  1        | 0.8872504 |\n",
       "\n"
      ],
      "text/plain": [
       "                     Df AIC      BIC      logLik    deviance Chisq     Chi Df\n",
       "offline_acc_model.s1 5  3992.709 4026.702 -1991.355 3982.709        NA NA    \n",
       "offline_acc_model.s2 6  3994.689 4035.480 -1991.345 3982.689 0.0201028  1    \n",
       "                     Pr(>Chisq)\n",
       "offline_acc_model.s1        NA \n",
       "offline_acc_model.s2 0.8872504 "
      ]
     },
     "metadata": {},
     "output_type": "display_data"
    },
    {
     "data": {
      "text/plain": [
       "Generalized linear mixed model fit by maximum likelihood (Laplace\n",
       "  Approximation) [glmerMod]\n",
       " Family: binomial  ( logit )\n",
       "Formula: ItemAccuracy ~ Regularity + Consistency + (1 | Subject) + (1 |  \n",
       "    Target)\n",
       "   Data: myData.behavior\n",
       "\n",
       "     AIC      BIC   logLik deviance df.resid \n",
       "  3992.7   4026.7  -1991.4   3982.7     6619 \n",
       "\n",
       "Scaled residuals: \n",
       "    Min      1Q  Median      3Q     Max \n",
       "-7.5931  0.0917  0.1628  0.3101  2.5961 \n",
       "\n",
       "Random effects:\n",
       " Groups  Name        Variance Std.Dev.\n",
       " Target  (Intercept) 3.6974   1.9229  \n",
       " Subject (Intercept) 0.3087   0.5556  \n",
       "Number of obs: 6624, groups:  Target, 184; Subject, 36\n",
       "\n",
       "Fixed effects:\n",
       "             Estimate Std. Error z value Pr(>|z|)    \n",
       "(Intercept)    2.9566     0.1941  15.232   <2e-16 ***\n",
       "Regularity1   -0.4051     0.3184  -1.273   0.2032    \n",
       "Consistency1   0.8186     0.3188   2.568   0.0102 *  \n",
       "---\n",
       "Signif. codes:  0 ‘***’ 0.001 ‘**’ 0.01 ‘*’ 0.05 ‘.’ 0.1 ‘ ’ 1\n",
       "\n",
       "Correlation of Fixed Effects:\n",
       "            (Intr) Rglrt1\n",
       "Regularity1 -0.037       \n",
       "Consistncy1  0.053  0.003"
      ]
     },
     "metadata": {},
     "output_type": "display_data"
    },
    {
     "data": {
      "text/plain": [
       "$emmeans\n",
       " Consistency   emmean        SE  df asymp.LCL asymp.UCL\n",
       " High        3.365917 0.2576597 Inf  2.860914  3.870921\n",
       " Low         2.547285 0.2444830 Inf  2.068107  3.026463\n",
       "\n",
       "Results are averaged over the levels of: Regularity \n",
       "Results are given on the logit (not the response) scale. \n",
       "Confidence level used: 0.95 \n",
       "\n",
       "$contrasts\n",
       " contrast    estimate        SE  df z.ratio p.value\n",
       " High - Low 0.8186326 0.3187758 Inf   2.568  0.0102\n",
       "\n",
       "Results are averaged over the levels of: Regularity \n",
       "Results are given on the log odds ratio (not the response) scale. \n"
      ]
     },
     "metadata": {},
     "output_type": "display_data"
    }
   ],
   "source": [
    "offline_acc_model.s1 <- glmer(ItemAccuracy ~ Regularity + Consistency + (1|Subject) + (1|Target),\n",
    "                             data = myData.behavior,  family = binomial)\n",
    "\n",
    "offline_acc_model.s2 <- glmer(ItemAccuracy ~ Regularity*Consistency + (1|Subject) + (1|Target),\n",
    "                          data = myData.behavior,  family = binomial,control=glmerControl(optCtrl=list(maxfun=50000)))\n",
    "\n",
    "anova(offline_acc_model.s1,offline_acc_model.s2)\n",
    "\n",
    "summary(offline_acc_model.s1)\n",
    "emmeans(offline_acc_model.s1, pairwise~Consistency, adjust=\"bonf\")"
   ]
  },
  {
   "cell_type": "markdown",
   "metadata": {},
   "source": [
    "##### <font size= 5 color='DodgerBlue'> Model report <font> \n",
    "    \n",
    "<p style='text-align: justify;text-indent:2em;font-size:130%', size = 20>   \n",
    "The results show that the effect of consistency is significant $(p < 0.05)$ after the variance associated with subject and items is simultaneously controlled for. However, the effect of regularity $(p > 0.2)$ is not significant.\n",
    "<p>\n",
    " <p style='text-align: justify;text-indent:2em;font-size:130%', size = 20>   \n",
    "             The fixed-effect parameter estimates, standard errors and significant test are shown above. Specifically, the estimated intercept is 2.9566, which means that the estimated average logits is 2.9566. Apply exp() to the logits, we get the average odds () of correct transcription, which is around 19.23. In addition, the consistency has a significant positive effect (+0.8186) on correct transcription of character pronunciations, indicating that the average difference between high consitency and low consitency characters is 0.8186 logits. Apply exp() to the logits, we get 2.27, which means that high-consistency characters significantly increase odds by 2.27 times in comparison with low-consistency characters.\n",
    "<p>"
   ]
  },
  {
   "cell_type": "markdown",
   "metadata": {},
   "source": [
    " <font size = 5 color='DodgerBlue'> Visualizing the results of offline accuracy <font> \n"
   ]
  },
  {
   "cell_type": "code",
   "execution_count": 54,
   "metadata": {
    "scrolled": true
   },
   "outputs": [
    {
     "data": {
      "image/png": "[encoded data removed]",
      "text/plain": [
       "plot without title"
      ]
     },
     "metadata": {},
     "output_type": "display_data"
    }
   ],
   "source": [
    "options(repr.plot.width=5, repr.plot.height=3)\n",
    "ConsistencyData <- summarySE(myData.behavior,measurevar=\"ItemAccuracy\", groupvars=\"Consistency\")\n",
    "\n",
    "ggplot(data = ConsistencyData,mapping = aes(x=Consistency,y=ConsistencyData$ItemAccuracy, fill=Consistency), stat = \"identity\")+\n",
    "  stat_summary(fun.y = \"mean\", geom = \"bar\", width = 1,position=position_dodge()) + \n",
    "  geom_errorbar(aes(x=Consistency,ymin=ConsistencyData$ItemAccuracy-se, ymax=ConsistencyData$ItemAccuracy+se),width=0.1) +\n",
    "  scale_fill_manual(values=c(\"darkgrey\",\"deepskyblue3\"))+\n",
    "  scale_x_discrete(labels = c(\"High\", \"Low\"),expand = c(0.8,0.8))+ \n",
    "  scale_y_continuous(labs( \"Mean accuracy\"),breaks=seq(0.5, 1.5, 0.1)) +\n",
    "  theme_gray(base_size = 10)+ ggtitle(\"Consistency effects in offline accuracy\")\n"
   ]
  },
  {
   "cell_type": "markdown",
   "metadata": {},
   "source": [
    "### <font color='DodgerBlue'> 4.2.2 Linear regression for online RTs (Method 3) <font> \n",
    "\n",
    "   #### <font color='DodgerBlue'>4.2.2.1 Online RTs <font> \n",
    "    \n",
    "   <font size =5 color='DodgerBlue'>Mixed effect linear regression <font> \n",
    "    "
   ]
  },
  {
   "cell_type": "code",
   "execution_count": 57,
   "metadata": {},
   "outputs": [
    {
     "name": "stderr",
     "output_type": "stream",
     "text": [
      "refitting model(s) with ML (instead of REML)\n"
     ]
    },
    {
     "data": {
      "text/html": [
       "<table>\n",
       "<thead><tr><th></th><th scope=col>Df</th><th scope=col>AIC</th><th scope=col>BIC</th><th scope=col>logLik</th><th scope=col>deviance</th><th scope=col>Chisq</th><th scope=col>Chi Df</th><th scope=col>Pr(&gt;Chisq)</th></tr></thead>\n",
       "<tbody>\n",
       "\t<tr><th scope=row>online_rt_model.s1</th><td>7        </td><td>72545.16 </td><td>72591.06 </td><td>-36265.58</td><td>72531.16 </td><td>      NA </td><td>NA       </td><td>       NA</td></tr>\n",
       "\t<tr><th scope=row>online_rt_model.s2</th><td>8        </td><td>72546.00 </td><td>72598.46 </td><td>-36265.00</td><td>72530.00 </td><td>1.163383 </td><td> 1       </td><td>0.2807651</td></tr>\n",
       "</tbody>\n",
       "</table>\n"
      ],
      "text/latex": [
       "\\begin{tabular}{r|llllllll}\n",
       "  & Df & AIC & BIC & logLik & deviance & Chisq & Chi Df & Pr(>Chisq)\\\\\n",
       "\\hline\n",
       "\tonline\\_rt\\_model.s1 & 7         & 72545.16  & 72591.06  & -36265.58 & 72531.16  &       NA  & NA        &        NA\\\\\n",
       "\tonline\\_rt\\_model.s2 & 8         & 72546.00  & 72598.46  & -36265.00 & 72530.00  & 1.163383  &  1        & 0.2807651\\\\\n",
       "\\end{tabular}\n"
      ],
      "text/markdown": [
       "\n",
       "| <!--/--> | Df | AIC | BIC | logLik | deviance | Chisq | Chi Df | Pr(>Chisq) |\n",
       "|---|---|---|---|---|---|---|---|---|\n",
       "| online_rt_model.s1 | 7         | 72545.16  | 72591.06  | -36265.58 | 72531.16  |       NA  | NA        |        NA |\n",
       "| online_rt_model.s2 | 8         | 72546.00  | 72598.46  | -36265.00 | 72530.00  | 1.163383  |  1        | 0.2807651 |\n",
       "\n"
      ],
      "text/plain": [
       "                   Df AIC      BIC      logLik    deviance Chisq    Chi Df\n",
       "online_rt_model.s1 7  72545.16 72591.06 -36265.58 72531.16       NA NA    \n",
       "online_rt_model.s2 8  72546.00 72598.46 -36265.00 72530.00 1.163383  1    \n",
       "                   Pr(>Chisq)\n",
       "online_rt_model.s1        NA \n",
       "online_rt_model.s2 0.2807651 "
      ]
     },
     "metadata": {},
     "output_type": "display_data"
    },
    {
     "name": "stderr",
     "output_type": "stream",
     "text": [
      "refitting model(s) with ML (instead of REML)\n"
     ]
    },
    {
     "data": {
      "text/html": [
       "<table>\n",
       "<thead><tr><th></th><th scope=col>Df</th><th scope=col>AIC</th><th scope=col>BIC</th><th scope=col>logLik</th><th scope=col>deviance</th><th scope=col>Chisq</th><th scope=col>Chi Df</th><th scope=col>Pr(&gt;Chisq)</th></tr></thead>\n",
       "<tbody>\n",
       "\t<tr><th scope=row>online_rt_model.s2</th><td> 8       </td><td>72546.00 </td><td>72598.46 </td><td>-36265.00</td><td>72530.00 </td><td>      NA </td><td>NA       </td><td>       NA</td></tr>\n",
       "\t<tr><th scope=row>online_rt_model.s3</th><td>10       </td><td>72548.89 </td><td>72614.46 </td><td>-36264.44</td><td>72528.89 </td><td>1.114893 </td><td> 2       </td><td>0.5726695</td></tr>\n",
       "</tbody>\n",
       "</table>\n"
      ],
      "text/latex": [
       "\\begin{tabular}{r|llllllll}\n",
       "  & Df & AIC & BIC & logLik & deviance & Chisq & Chi Df & Pr(>Chisq)\\\\\n",
       "\\hline\n",
       "\tonline\\_rt\\_model.s2 &  8        & 72546.00  & 72598.46  & -36265.00 & 72530.00  &       NA  & NA        &        NA\\\\\n",
       "\tonline\\_rt\\_model.s3 & 10        & 72548.89  & 72614.46  & -36264.44 & 72528.89  & 1.114893  &  2        & 0.5726695\\\\\n",
       "\\end{tabular}\n"
      ],
      "text/markdown": [
       "\n",
       "| <!--/--> | Df | AIC | BIC | logLik | deviance | Chisq | Chi Df | Pr(>Chisq) |\n",
       "|---|---|---|---|---|---|---|---|---|\n",
       "| online_rt_model.s2 |  8        | 72546.00  | 72598.46  | -36265.00 | 72530.00  |       NA  | NA        |        NA |\n",
       "| online_rt_model.s3 | 10        | 72548.89  | 72614.46  | -36264.44 | 72528.89  | 1.114893  |  2        | 0.5726695 |\n",
       "\n"
      ],
      "text/plain": [
       "                   Df AIC      BIC      logLik    deviance Chisq    Chi Df\n",
       "online_rt_model.s2  8 72546.00 72598.46 -36265.00 72530.00       NA NA    \n",
       "online_rt_model.s3 10 72548.89 72614.46 -36264.44 72528.89 1.114893  2    \n",
       "                   Pr(>Chisq)\n",
       "online_rt_model.s2        NA \n",
       "online_rt_model.s3 0.5726695 "
      ]
     },
     "metadata": {},
     "output_type": "display_data"
    },
    {
     "name": "stderr",
     "output_type": "stream",
     "text": [
      "refitting model(s) with ML (instead of REML)\n"
     ]
    },
    {
     "data": {
      "text/html": [
       "<table>\n",
       "<thead><tr><th></th><th scope=col>Df</th><th scope=col>AIC</th><th scope=col>BIC</th><th scope=col>logLik</th><th scope=col>deviance</th><th scope=col>Chisq</th><th scope=col>Chi Df</th><th scope=col>Pr(&gt;Chisq)</th></tr></thead>\n",
       "<tbody>\n",
       "\t<tr><th scope=row>online_rt_model.s3</th><td>10         </td><td>72548.89   </td><td>72614.46   </td><td>-36264.44  </td><td>72528.89   </td><td>         NA</td><td>NA         </td><td>       NA  </td></tr>\n",
       "\t<tr><th scope=row>online_rt_model.s4</th><td>11         </td><td>72550.88   </td><td>72623.01   </td><td>-36264.44  </td><td>72528.88   </td><td>0.003619719</td><td> 1         </td><td>0.9520249  </td></tr>\n",
       "</tbody>\n",
       "</table>\n"
      ],
      "text/latex": [
       "\\begin{tabular}{r|llllllll}\n",
       "  & Df & AIC & BIC & logLik & deviance & Chisq & Chi Df & Pr(>Chisq)\\\\\n",
       "\\hline\n",
       "\tonline\\_rt\\_model.s3 & 10          & 72548.89    & 72614.46    & -36264.44   & 72528.89    &          NA & NA          &        NA  \\\\\n",
       "\tonline\\_rt\\_model.s4 & 11          & 72550.88    & 72623.01    & -36264.44   & 72528.88    & 0.003619719 &  1          & 0.9520249  \\\\\n",
       "\\end{tabular}\n"
      ],
      "text/markdown": [
       "\n",
       "| <!--/--> | Df | AIC | BIC | logLik | deviance | Chisq | Chi Df | Pr(>Chisq) |\n",
       "|---|---|---|---|---|---|---|---|---|\n",
       "| online_rt_model.s3 | 10          | 72548.89    | 72614.46    | -36264.44   | 72528.89    |          NA | NA          |        NA   |\n",
       "| online_rt_model.s4 | 11          | 72550.88    | 72623.01    | -36264.44   | 72528.88    | 0.003619719 |  1          | 0.9520249   |\n",
       "\n"
      ],
      "text/plain": [
       "                   Df AIC      BIC      logLik    deviance Chisq       Chi Df\n",
       "online_rt_model.s3 10 72548.89 72614.46 -36264.44 72528.89          NA NA    \n",
       "online_rt_model.s4 11 72550.88 72623.01 -36264.44 72528.88 0.003619719  1    \n",
       "                   Pr(>Chisq)\n",
       "online_rt_model.s3        NA \n",
       "online_rt_model.s4 0.9520249 "
      ]
     },
     "metadata": {},
     "output_type": "display_data"
    },
    {
     "data": {
      "text/plain": [
       "Linear mixed model fit by REML. t-tests use Satterthwaite's method [\n",
       "lmerModLmerTest]\n",
       "Formula: RT ~ Regularity + Consistency + ProbeCondition + (1 | Subject) +  \n",
       "    (1 | Target)\n",
       "   Data: CorrectData\n",
       "\n",
       "REML criterion at convergence: 72503.3\n",
       "\n",
       "Scaled residuals: \n",
       "    Min      1Q  Median      3Q     Max \n",
       "-3.1464 -0.5291 -0.1508  0.3067  7.3648 \n",
       "\n",
       "Random effects:\n",
       " Groups   Name        Variance Std.Dev.\n",
       " Target   (Intercept)  3430     58.56  \n",
       " Subject  (Intercept) 36473    190.98  \n",
       " Residual             62319    249.64  \n",
       "Number of obs: 5203, groups:  Target, 184; Subject, 36\n",
       "\n",
       "Fixed effects:\n",
       "                Estimate Std. Error       df t value Pr(>|t|)    \n",
       "(Intercept)      819.973     32.322   36.302  25.369  < 2e-16 ***\n",
       "Regularity1        2.515     11.215  170.653   0.224    0.823    \n",
       "Consistency1       5.378     11.221  171.035   0.479    0.632    \n",
       "ProbeCondition1   30.234      6.959 5031.725   4.344 1.42e-05 ***\n",
       "---\n",
       "Signif. codes:  0 ‘***’ 0.001 ‘**’ 0.01 ‘*’ 0.05 ‘.’ 0.1 ‘ ’ 1\n",
       "\n",
       "Correlation of Fixed Effects:\n",
       "            (Intr) Rglrt1 Cnsst1\n",
       "Regularity1  0.002              \n",
       "Consistncy1 -0.006  0.002       \n",
       "ProbeCndtn1 -0.005 -0.005  0.004"
      ]
     },
     "metadata": {},
     "output_type": "display_data"
    }
   ],
   "source": [
    "# Only consider trials with accurate online and offline performance and reasonable reactions [mean+2sd, mean-2sd]\n",
    "CorrectData <- subset(myData.behavior, myData.behavior$ItemAccuracy==1 & myData.behavior$Accuracy==1 & myData.behavior$Range_acc==1)\n",
    "\n",
    "CorrectData$Regularity <- as.factor(CorrectData$Regularity)\n",
    "CorrectData$Consistency <- as.factor(CorrectData$Consistency)\n",
    "CorrectData$ProbeCondition <- as.factor(CorrectData$ProbeCondition)\n",
    "\n",
    "contrasts(CorrectData$Regularity) <- c(0.5, -0.5)\n",
    "contrasts(CorrectData$Consistency) <- c(0.5, -0.5)\n",
    "contrasts(CorrectData$ProbeCondition) <- c(0.5, -0.5)\n",
    "\n",
    "\n",
    "online_rt_model.s1 <-lmer(RT ~ Regularity + Consistency + ProbeCondition + \n",
    "                          (1|Subject) + (1|Target), data = CorrectData)\n",
    "\n",
    "online_rt_model.s2 <-lmer(RT ~ Regularity*Consistency + ProbeCondition + \n",
    "                          (1|Subject) + (1|Target), data = CorrectData)\n",
    "\n",
    "online_rt_model.s3  <-lmer(RT ~ Regularity*Consistency + ProbeCondition+Regularity:ProbeCondition + \n",
    "                           Consistency:ProbeCondition + \n",
    "                           (1|Subject) + (1|Target), data = CorrectData)\n",
    "\n",
    "online_rt_model.s4  <-lmer(RT ~ Regularity*Consistency*ProbeCondition +\n",
    "                           (1|Subject) + (1|Target), data = CorrectData)\n",
    "\n",
    "anova(online_rt_model.s1, online_rt_model.s2)\n",
    "anova(online_rt_model.s2, online_rt_model.s3)\n",
    "anova(online_rt_model.s3, online_rt_model.s4)\n",
    "\n",
    "summary(online_rt_model.s1)"
   ]
  },
  {
   "cell_type": "markdown",
   "metadata": {},
   "source": [
    "##### <font size= 5 color='DodgerBlue'> Model report <font> \n",
    "    \n",
    "<p style='text-align: justify;text-indent:2em;font-size:130%', size = 20>   \n",
    "The results show that the effect of probe condition is significant $(p < .001)$ after the variance associated with subject and items is simultaneously controlled for. However, neight the effect of regularity $(p > 0.8)$ nor the effect of consistency $(p > 0.6)$ is significant.\n",
    "<p>\n",
    " <p style='text-align: justify;text-indent:2em;font-size:130%', size = 20>   \n",
    "             The fixed-effect parameter estimates, standard errors and significant test are shown above. Specifically, the estimated intercept is 819.973, which means that the estimated average RTs is 820. In addition, the probe condition has a significant positive effect (+30.234) on the RTs, indicating that the average RTs difference between homophone and control trials is 30.234. \n",
    "<p>"
   ]
  },
  {
   "cell_type": "markdown",
   "metadata": {},
   "source": [
    "<font size =5 color='DodgerBlue'>Visualizing the results of online RTs <font> "
   ]
  },
  {
   "cell_type": "code",
   "execution_count": 58,
   "metadata": {},
   "outputs": [
    {
     "data": {
      "text/html": [
       "<dl class=dl-horizontal>\n",
       "\t<dt>Control</dt>\n",
       "\t\t<dd>827.533085501859</dd>\n",
       "\t<dt>Homophone</dt>\n",
       "\t\t<dd>794.174293672901</dd>\n",
       "</dl>\n"
      ],
      "text/latex": [
       "\\begin{description*}\n",
       "\\item[Control] 827.533085501859\n",
       "\\item[Homophone] 794.174293672901\n",
       "\\end{description*}\n"
      ],
      "text/markdown": [
       "Control\n",
       ":   827.533085501859Homophone\n",
       ":   794.174293672901\n",
       "\n"
      ],
      "text/plain": [
       "  Control Homophone \n",
       " 827.5331  794.1743 "
      ]
     },
     "metadata": {},
     "output_type": "display_data"
    },
    {
     "data": {
      "image/png": "[encoded data removed]",
      "text/plain": [
       "plot without title"
      ]
     },
     "metadata": {},
     "output_type": "display_data"
    }
   ],
   "source": [
    "\n",
    "ProbeConRTData <- summarySE(CorrectData,measurevar=\"RT\", groupvars=c(\"ProbeCondition\"))\n",
    "tapply(CorrectData$RT, CorrectData$ProbeCondition, mean)\n",
    "\n",
    "ggplot(data = ProbeConRTData, mapping = aes(x=ProbeCondition,y=ProbeConRTData$RT, fill=ProbeCondition), stat = \"identity\")+\n",
    "  stat_summary(fun.y = \"mean\", geom = \"bar\",position=position_dodge()) + \n",
    "  geom_errorbar(aes(ymin=ProbeConRTData$RT-se, ymax=ProbeConRTData$RT+se),width=.1,position=position_dodge(.9)) +\n",
    "  scale_fill_manual(values=c(\"darkgrey\",\"darkgreen\"))+\n",
    "  scale_x_discrete(limits = c(\"Homophone\", \"Control\"),expand = c(0.8,0.8))+ \n",
    "  scale_y_continuous(labs( \"RT (ms)\")) +\n",
    "  theme_gray(base_size = 10) + ggtitle(\"Probe condition effects\")"
   ]
  },
  {
   "cell_type": "markdown",
   "metadata": {},
   "source": [
    "#### <font color='DodgerBlue'>4.2.2.2 Bootstrap confidence intervals (Method 4) <font>"
   ]
  },
  {
   "cell_type": "code",
   "execution_count": 60,
   "metadata": {},
   "outputs": [
    {
     "data": {
      "text/html": [
       "<dl class=dl-horizontal>\n",
       "\t<dt>(Intercept)</dt>\n",
       "\t\t<dd>810.853689587381</dd>\n",
       "\t<dt>ProbeCondition1</dt>\n",
       "\t\t<dd>33.358791828958</dd>\n",
       "</dl>\n"
      ],
      "text/latex": [
       "\\begin{description*}\n",
       "\\item[(Intercept)] 810.853689587381\n",
       "\\item[ProbeCondition1] 33.358791828958\n",
       "\\end{description*}\n"
      ],
      "text/markdown": [
       "(Intercept)\n",
       ":   810.853689587381ProbeCondition1\n",
       ":   33.358791828958\n",
       "\n"
      ],
      "text/plain": [
       "    (Intercept) ProbeCondition1 \n",
       "      810.85369        33.35879 "
      ]
     },
     "metadata": {},
     "output_type": "display_data"
    },
    {
     "name": "stdout",
     "output_type": "stream",
     "text": [
      "\n",
      "ORDINARY NONPARAMETRIC BOOTSTRAP\n",
      "\n",
      "\n",
      "Call:\n",
      "boot(data = CorrectData, statistic = boot.fn, R = 10000)\n",
      "\n",
      "\n",
      "Bootstrap Statistics :\n",
      "     original      bias    std. error\n",
      "t1* 810.85369 -0.04160736    4.313775\n",
      "t2*  33.35879 -0.03679503    8.763627\n"
     ]
    },
    {
     "data": {
      "image/png": "[encoded data removed]",
      "text/plain": [
       "Plot with title “Histogram of boot(CorrectData, boot.fn, R = 1000)$t[, 2]”"
      ]
     },
     "metadata": {},
     "output_type": "display_data"
    }
   ],
   "source": [
    "library(boot)\n",
    "\n",
    "\n",
    "boot.fn = function(Data,Index)\n",
    "    return(coef(lm(RT ~ ProbeCondition,data=Data, subset=Index)))\n",
    "\n",
    "boot.fn(CorrectData,1:5203)\n",
    "\n",
    "boot_obj = boot(data=CorrectData, statistic = boot.fn, R=10000)\n",
    "print(boot_obj)\n",
    "hist(boot(CorrectData, boot.fn,R=1000)$t[,2], xlab=\"Probe Condition coefficient\")\n"
   ]
  },
  {
   "cell_type": "code",
   "execution_count": 251,
   "metadata": {},
   "outputs": [
    {
     "data": {
      "text/html": [
       "<table>\n",
       "<thead><tr><th></th><th scope=col>Estimate</th><th scope=col>Std. Error</th><th scope=col>df</th><th scope=col>t value</th><th scope=col>Pr(&gt;|t|)</th></tr></thead>\n",
       "<tbody>\n",
       "\t<tr><th scope=row>(Intercept)</th><td>819.972588  </td><td>32.321928   </td><td>  36.30176  </td><td>25.3689253  </td><td>1.079290e-24</td></tr>\n",
       "\t<tr><th scope=row>Regularity1</th><td>  2.514997  </td><td>11.214772   </td><td> 170.65264  </td><td> 0.2242575  </td><td>8.228252e-01</td></tr>\n",
       "\t<tr><th scope=row>Consistency1</th><td>  5.377729  </td><td>11.220761   </td><td> 171.03531  </td><td> 0.4792660  </td><td>6.323617e-01</td></tr>\n",
       "\t<tr><th scope=row>ProbeCondition1</th><td> 30.234058  </td><td> 6.959341   </td><td>5031.72510  </td><td> 4.3443849  </td><td>1.424155e-05</td></tr>\n",
       "</tbody>\n",
       "</table>\n"
      ],
      "text/latex": [
       "\\begin{tabular}{r|lllll}\n",
       "  & Estimate & Std. Error & df & t value & Pr(>\\textbar{}t\\textbar{})\\\\\n",
       "\\hline\n",
       "\t(Intercept) & 819.972588   & 32.321928    &   36.30176   & 25.3689253   & 1.079290e-24\\\\\n",
       "\tRegularity1 &   2.514997   & 11.214772    &  170.65264   &  0.2242575   & 8.228252e-01\\\\\n",
       "\tConsistency1 &   5.377729   & 11.220761    &  171.03531   &  0.4792660   & 6.323617e-01\\\\\n",
       "\tProbeCondition1 &  30.234058   &  6.959341    & 5031.72510   &  4.3443849   & 1.424155e-05\\\\\n",
       "\\end{tabular}\n"
      ],
      "text/markdown": [
       "\n",
       "| <!--/--> | Estimate | Std. Error | df | t value | Pr(>|t|) |\n",
       "|---|---|---|---|---|---|\n",
       "| (Intercept) | 819.972588   | 32.321928    |   36.30176   | 25.3689253   | 1.079290e-24 |\n",
       "| Regularity1 |   2.514997   | 11.214772    |  170.65264   |  0.2242575   | 8.228252e-01 |\n",
       "| Consistency1 |   5.377729   | 11.220761    |  171.03531   |  0.4792660   | 6.323617e-01 |\n",
       "| ProbeCondition1 |  30.234058   |  6.959341    | 5031.72510   |  4.3443849   | 1.424155e-05 |\n",
       "\n"
      ],
      "text/plain": [
       "                Estimate   Std. Error df         t value    Pr(>|t|)    \n",
       "(Intercept)     819.972588 32.321928    36.30176 25.3689253 1.079290e-24\n",
       "Regularity1       2.514997 11.214772   170.65264  0.2242575 8.228252e-01\n",
       "Consistency1      5.377729 11.220761   171.03531  0.4792660 6.323617e-01\n",
       "ProbeCondition1  30.234058  6.959341  5031.72510  4.3443849 1.424155e-05"
      ]
     },
     "metadata": {},
     "output_type": "display_data"
    }
   ],
   "source": [
    "summary(online_rt_model.s1)$coef"
   ]
  },
  {
   "cell_type": "markdown",
   "metadata": {},
   "source": [
    "# <font color='DodgerBlue'>5. Conclusion <font>"
   ]
  },
  {
   "cell_type": "markdown",
   "metadata": {},
   "source": [
    "<p style='text-align: justify;text-indent:2em;font-size:130%', size = 20>   \n",
    " To summarize, we examined the effect of consistency and regularity with factorial design in a covert naming experiment. Our ERP data time-locked to the target characters, showed that consistency affected both P200 and N400 responses whereas regularity did not. Similarly, the post-test questionnaire on target character pronunciations showed that consistency affected target pronunciation accuracy transcription, but regularity did not. However, the online accuracy showed that both consistency and regularity affected the accuracy of judging homophone trials that require considering both target and probe characters.\n",
    "<p>\n",
    "<p style='text-align: justify;text-indent:2em;font-size:130%', size = 20>    Echoing with the literature in English reading, our results show that consistency is superior than regularity in characterizing the orthography-to-phonology mappings of written Chinese. Therefore, consistency may be a universal factor in word recognition, irrespective of the nature of writing systems. Connectionist approach has the potential to develop a universal model of reading. <p>\n",
    "<img src=\"General picture.png\">\n"
   ]
  },
  {
   "cell_type": "markdown",
   "metadata": {},
   "source": [
    "# <font color='DodgerBlue'>6. Reference <font>"
   ]
  },
  {
   "cell_type": "markdown",
   "metadata": {},
   "source": [
    "<p>Coltheart, M., Rastle, K., Perry, C., Langdon, R., & Ziegler, J. (2001). DRC: A Dual Route Cascaded Model of Visual Word Recognition and Reading Aloud. Psychological Review, 108(1), 204-256. \n",
    "<p>\n",
    "Frost, R. (2012). Towards a universal model of reading. Behavioral and Brain Sciences, 35(05), 263-279. \n",
    "    <p>\n",
    "Jared, D. (2002). Spelling-sound consistency and regularity effects in word naming. Journal of Memory and Language, 46(4), 723-750. doi:http://dx.doi.org/10.1006/jmla.2001.2827\n",
    "        <p>\n",
    "Plaut, D., McClelland, J. L., Seidenberg, M. S., & Patterson, K. (1996). Understanding normal and impaired word reading: Computational principles in quasi-regular domains. Psychological Review, 103(1), 56-115. "
   ]
  }
 ],
 "metadata": {
  "kernelspec": {
   "display_name": "R",
   "language": "R",
   "name": "ir"
  },
  "language_info": {
   "codemirror_mode": "r",
   "file_extension": ".r",
   "mimetype": "text/x-r-source",
   "name": "R",
   "pygments_lexer": "r",
   "version": "3.5.1"
  },
  "toc": {
   "base_numbering": 1,
   "nav_menu": {},
   "number_sections": true,
   "sideBar": true,
   "skip_h1_title": false,
   "title_cell": "Table of Contents",
   "title_sidebar": "Contents",
   "toc_cell": false,
   "toc_position": {
    "height": "calc(100% - 180px)",
    "left": "10px",
    "top": "150px",
    "width": "264.1875px"
   },
   "toc_section_display": true,
   "toc_window_display": true
  }
 },
 "nbformat": 4,
 "nbformat_minor": 2
}
